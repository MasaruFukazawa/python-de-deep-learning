{
 "cells": [
  {
   "cell_type": "markdown",
   "id": "b9e67afb",
   "metadata": {},
   "source": [
    "# 第10章 データ可視化のための準備"
   ]
  },
  {
   "cell_type": "markdown",
   "id": "f9ac263f",
   "metadata": {},
   "source": [
    "## 10.1 様々なグラフ"
   ]
  },
  {
   "cell_type": "markdown",
   "id": "7d6304b0",
   "metadata": {},
   "source": [
    "## 10.2 乱数の生成"
   ]
  },
  {
   "cell_type": "markdown",
   "id": "7f6f3bc4",
   "metadata": {},
   "source": [
    "### 10.2.1 シードを設定する"
   ]
  },
  {
   "cell_type": "code",
   "execution_count": 7,
   "id": "360b1c81",
   "metadata": {},
   "outputs": [
    {
     "name": "stdout",
     "output_type": "stream",
     "text": [
      "[-0.97727788  0.95008842 -0.15135721 -0.10321885  0.4105985 ]\n",
      "\n",
      "[0.14404357 1.45427351 0.76103773 0.12167502 0.44386323]\n",
      "\n",
      "[1.76405235 0.40015721 0.97873798 2.2408932  1.86755799]\n",
      "\n",
      "[1.76405235 0.40015721 0.97873798 2.2408932  1.86755799]\n",
      "\n"
     ]
    }
   ],
   "source": [
    "import numpy as np\n",
    "\n",
    "# 初期化せずに適当な乱数が一致するか確認する\n",
    "# X, Y にそれぞれ5つの乱数を格納する\n",
    "X = np.random.randn(5)\n",
    "Y = np.random.randn(5)\n",
    "\n",
    "# X, Y の値を出力する\n",
    "print(X)\n",
    "print()\n",
    "\n",
    "print(Y)\n",
    "print()\n",
    "\n",
    "\n",
    "# シードを設定する\n",
    "np.random.seed(0)\n",
    "x = np.random.randn(5)\n",
    "\n",
    "np.random.seed(0)\n",
    "y = np.random.randn(5)\n",
    "\n",
    "# X, Y の値を出力する\n",
    "print(x)\n",
    "print()\n",
    "\n",
    "print(y)\n",
    "print()"
   ]
  },
  {
   "cell_type": "markdown",
   "id": "1e07a4fb",
   "metadata": {},
   "source": [
    "### 10.2.2 正規分布に従う乱数を生成する"
   ]
  },
  {
   "cell_type": "code",
   "execution_count": 12,
   "id": "e589f077",
   "metadata": {},
   "outputs": [
    {
     "data": {
      "image/png": "[encoded data removed]",
      "text/plain": [
       "<Figure size 640x480 with 1 Axes>"
      ]
     },
     "metadata": {},
     "output_type": "display_data"
    }
   ],
   "source": [
    "import numpy as np\n",
    "import matplotlib.pyplot as plt\n",
    "\n",
    "%matplotlib inline\n",
    "\n",
    "np.random.seed(0)\n",
    "\n",
    "x = np.random.randn(10000)\n",
    "\n",
    "plt.hist(x, bins='auto')\n",
    "plt.show()\n"
   ]
  },
  {
   "cell_type": "markdown",
   "id": "7bd515fd",
   "metadata": {},
   "source": [
    "### 10.2.3 二項分布に従う乱数を生成する"
   ]
  },
  {
   "cell_type": "code",
   "execution_count": 19,
   "id": "e2410137",
   "metadata": {},
   "outputs": [
    {
     "data": {
      "image/png": "[encoded data removed]",
      "text/plain": [
       "<Figure size 640x480 with 1 Axes>"
      ]
     },
     "metadata": {},
     "output_type": "display_data"
    },
    {
     "name": "stdout",
     "output_type": "stream",
     "text": [
      "0.49832\n"
     ]
    }
   ],
   "source": [
    "import numpy as np\n",
    "import matplotlib.pyplot as plt\n",
    "\n",
    "%matplotlib inline\n",
    "\n",
    "np.random.seed(0)\n",
    "\n",
    "nums = np.random.binomial(100, 0.5, size=10000)\n",
    "\n",
    "#plt.hist(nums, bins='auto')\n",
    "#plt.show()\n",
    "\n",
    "print(nums.mean()/100)\n",
    "\n"
   ]
  },
  {
   "cell_type": "markdown",
   "id": "0d0f8167",
   "metadata": {},
   "source": [
    "### 10.2.4 リストからランダムに選択する"
   ]
  },
  {
   "cell_type": "code",
   "execution_count": 20,
   "id": "aaf3c87b",
   "metadata": {},
   "outputs": [
    {
     "name": "stdout",
     "output_type": "stream",
     "text": [
      "['Kiwifruit' 'Strawberry' 'Apple' 'Pineapple' 'Pineapple']\n"
     ]
    }
   ],
   "source": [
    "import numpy as np\n",
    "\n",
    "x = [\n",
    "    'Apple',\n",
    "    'Orange',\n",
    "    'Banana',\n",
    "    'Pineapple',\n",
    "    'Kiwifruit',\n",
    "    'Strawberry',\n",
    "]\n",
    "\n",
    "np.random.seed(0)\n",
    "\n",
    "y = np.random.choice(x, 5)\n",
    "\n",
    "print(y)"
   ]
  },
  {
   "cell_type": "markdown",
   "id": "5f719ce9",
   "metadata": {},
   "source": [
    "## 10.3 時系列データ"
   ]
  },
  {
   "cell_type": "markdown",
   "id": "00a76fd5",
   "metadata": {},
   "source": [
    "### 10.3.1 datetime型"
   ]
  },
  {
   "cell_type": "code",
   "execution_count": 21,
   "id": "220def5d",
   "metadata": {},
   "outputs": [
    {
     "name": "stdout",
     "output_type": "stream",
     "text": [
      "1992-10-22 00:00:00\n"
     ]
    }
   ],
   "source": [
    "import datetime as dt\n",
    "\n",
    "x = dt.datetime(1992, 10, 22)\n",
    "\n",
    "print(x)"
   ]
  },
  {
   "cell_type": "markdown",
   "id": "3d155a20",
   "metadata": {},
   "source": [
    "### 10.3.2 timedelta型"
   ]
  },
  {
   "cell_type": "code",
   "execution_count": 22,
   "id": "c468967b",
   "metadata": {},
   "outputs": [
    {
     "name": "stdout",
     "output_type": "stream",
     "text": [
      "1:30:00\n"
     ]
    }
   ],
   "source": [
    "import datetime as dt\n",
    "\n",
    "x = dt.timedelta(hours=1, minutes=30)\n",
    "\n",
    "print(x)"
   ]
  },
  {
   "cell_type": "markdown",
   "id": "364b7c1e",
   "metadata": {},
   "source": [
    "### 10.3.3 datetime型 と timedelta型の演算"
   ]
  },
  {
   "cell_type": "code",
   "execution_count": 24,
   "id": "b4bb18d1",
   "metadata": {},
   "outputs": [
    {
     "name": "stdout",
     "output_type": "stream",
     "text": [
      "1992-10-23 00:00:00\n"
     ]
    }
   ],
   "source": [
    "import datetime as dt\n",
    "\n",
    "x = dt.datetime(1992, 10, 22)\n",
    "\n",
    "y = x + dt.timedelta(days=1)\n",
    "\n",
    "print(y)\n",
    "\n"
   ]
  },
  {
   "cell_type": "markdown",
   "id": "3ee1b87c",
   "metadata": {},
   "source": [
    "### 10.3.4 時を表す文字列からdatetimeオブジェクトを作成する"
   ]
  },
  {
   "cell_type": "code",
   "execution_count": 25,
   "id": "8bd7e424",
   "metadata": {},
   "outputs": [
    {
     "name": "stdout",
     "output_type": "stream",
     "text": [
      "1992-10-22 00:00:00\n"
     ]
    }
   ],
   "source": [
    "import datetime as dt\n",
    "\n",
    "s = \"1992-10-22\"\n",
    "\n",
    "x = dt.datetime.strptime(s, \"%Y-%m-%d\")\n",
    "\n",
    "print(x)"
   ]
  },
  {
   "cell_type": "markdown",
   "id": "57e986d3",
   "metadata": {},
   "source": [
    "## 10.4 データの操作"
   ]
  },
  {
   "cell_type": "markdown",
   "id": "f70b98fa",
   "metadata": {},
   "source": [
    "### 10.4.1 文字列型から数値型へ型変換する"
   ]
  },
  {
   "cell_type": "code",
   "execution_count": 26,
   "id": "a9fa1092",
   "metadata": {},
   "outputs": [
    {
     "name": "stdout",
     "output_type": "stream",
     "text": [
      "80\n"
     ]
    }
   ],
   "source": [
    "x = '64'\n",
    "y = '16'\n",
    "\n",
    "z = int(x) + int(y)\n",
    "\n",
    "print(z)"
   ]
  },
  {
   "cell_type": "markdown",
   "id": "07ec6bce",
   "metadata": {},
   "source": [
    "### 10.4.2 等間隔の数列を生成する 1"
   ]
  },
  {
   "cell_type": "code",
   "execution_count": 27,
   "id": "a492d8ba",
   "metadata": {},
   "outputs": [
    {
     "name": "stdout",
     "output_type": "stream",
     "text": [
      "[ 0  2  4  6  8 10]\n"
     ]
    }
   ],
   "source": [
    "import numpy as np\n",
    "\n",
    "x = np.arange(0, 11, 2)\n",
    "\n",
    "print(x)"
   ]
  },
  {
   "cell_type": "markdown",
   "id": "3fec20e1",
   "metadata": {},
   "source": [
    "### 10.4.3 等間隔の数列を生成する 2"
   ]
  },
  {
   "cell_type": "code",
   "execution_count": 33,
   "id": "83064cf6",
   "metadata": {},
   "outputs": [
    {
     "name": "stdout",
     "output_type": "stream",
     "text": [
      "[ 0.   2.5  5.   7.5 10. ]\n"
     ]
    }
   ],
   "source": [
    "import numpy as np\n",
    "\n",
    "x = np.linspace(0, 10, 5)\n",
    "\n",
    "print(x)"
   ]
  },
  {
   "cell_type": "markdown",
   "id": "b5d7001c",
   "metadata": {},
   "source": [
    "## 添削問題"
   ]
  },
  {
   "cell_type": "code",
   "execution_count": 43,
   "id": "1d6d472e",
   "metadata": {},
   "outputs": [
    {
     "data": {
      "image/png": "[encoded data removed]",
      "text/plain": [
       "<Figure size 500x500 with 1 Axes>"
      ]
     },
     "metadata": {},
     "output_type": "display_data"
    },
    {
     "data": {
      "image/png": "[encoded data removed]",
      "text/plain": [
       "<Figure size 500x500 with 1 Axes>"
      ]
     },
     "metadata": {},
     "output_type": "display_data"
    },
    {
     "data": {
      "image/png": "[encoded data removed]",
      "text/plain": [
       "<Figure size 500x500 with 1 Axes>"
      ]
     },
     "metadata": {},
     "output_type": "display_data"
    }
   ],
   "source": [
    "import matplotlib.pyplot as plt\n",
    "import numpy as np\n",
    "\n",
    "np.random.seed(100)\n",
    "\n",
    "# 一様乱数を10000個生成して、random_number_1に代入する\n",
    "random_number_1 = np.random.rand(10000)\n",
    "\n",
    "plt.figure(figsize=(5, 5))\n",
    "\n",
    "plt.hist(random_number_1, bins=50)\n",
    "plt.title('uniform_distribution')\n",
    "plt.grid(True)\n",
    "plt.show()\n",
    "\n",
    "\n",
    "# 正規分布乱数を10000個生成して、random_number_2に代入する\n",
    "random_number_2 = np.random.randn(10000)\n",
    "\n",
    "plt.figure(figsize=(5, 5))\n",
    "\n",
    "plt.hist(random_number_2, bins=50)\n",
    "plt.title('normal_distribution')\n",
    "plt.grid(True)\n",
    "plt.show()\n",
    "\n",
    "\n",
    "# 二項分布乱数を10000個生成して、random_number_2に代入する\n",
    "random_number_3 = np.random.binomial(100, 0.5, size=10000)\n",
    "\n",
    "plt.figure(figsize=(5, 5))\n",
    "\n",
    "plt.hist(random_number_3, bins=50)\n",
    "plt.title('biomial_distribution')\n",
    "plt.grid(True)\n",
    "plt.show()"
   ]
  },
  {
   "cell_type": "code",
   "execution_count": null,
   "id": "01f74da2",
   "metadata": {},
   "outputs": [],
   "source": []
  }
 ],
 "metadata": {
  "kernelspec": {
   "display_name": "Python 3 (ipykernel)",
   "language": "python",
   "name": "python3"
  },
  "language_info": {
   "codemirror_mode": {
    "name": "ipython",
    "version": 3
   },
   "file_extension": ".py",
   "mimetype": "text/x-python",
   "name": "python",
   "nbconvert_exporter": "python",
   "pygments_lexer": "ipython3",
   "version": "3.10.8"
  }
 },
 "nbformat": 4,
 "nbformat_minor": 5
}

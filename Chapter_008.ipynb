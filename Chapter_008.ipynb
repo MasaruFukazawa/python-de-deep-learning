{
 "cells": [
  {
   "cell_type": "markdown",
   "id": "90664b73",
   "metadata": {},
   "source": [
    "# 8章 Pandasの基礎"
   ]
  },
  {
   "cell_type": "markdown",
   "id": "7298f7f0",
   "metadata": {},
   "source": [
    "## 8.1 Pandaとは"
   ]
  },
  {
   "cell_type": "markdown",
   "id": "b33a814d",
   "metadata": {},
   "source": [
    "#### 8.1.2 Series と DataFrame のデータの確認"
   ]
  },
  {
   "cell_type": "code",
   "execution_count": 1,
   "id": "aa1908b1",
   "metadata": {},
   "outputs": [
    {
     "name": "stdout",
     "output_type": "stream",
     "text": [
      "orange    2\n",
      "banana    3\n",
      "dtype: int64\n"
     ]
    }
   ],
   "source": [
    "import pandas as pd\n",
    "\n",
    "fruits = {\n",
    "    \"orange\" : 2, \n",
    "    \"banana\" : 3,\n",
    "}\n",
    "\n",
    "print( pd.Series(fruits) )"
   ]
  },
  {
   "cell_type": "code",
   "execution_count": 2,
   "id": "a7dcb402",
   "metadata": {},
   "outputs": [
    {
     "name": "stdout",
     "output_type": "stream",
     "text": [
      "       fruits  year  time\n",
      "0       apple  2001     1\n",
      "1      orange  2002     4\n",
      "2      banana  2001     5\n",
      "3  strawberry  2008     6\n",
      "4   kiwifruit  2006     3\n"
     ]
    }
   ],
   "source": [
    "import pandas as pd\n",
    "\n",
    "data = {\n",
    "    \"fruits\" : [\"apple\", \"orange\", \"banana\", \"strawberry\", \"kiwifruit\"],\n",
    "    \"year\" : [2001, 2002, 2001, 2008, 2006],\n",
    "    \"time\" : [1, 4, 5, 6, 3],\n",
    "}\n",
    "\n",
    "df = pd.DataFrame(data)\n",
    "\n",
    "print( df )"
   ]
  },
  {
   "cell_type": "code",
   "execution_count": 3,
   "id": "c20419c3",
   "metadata": {},
   "outputs": [
    {
     "name": "stdout",
     "output_type": "stream",
     "text": [
      "apple         10\n",
      "orange         5\n",
      "banana         8\n",
      "strawberry    12\n",
      "kiwifruit      3\n",
      "dtype: int64\n",
      "       fruits  year  time\n",
      "0       apple  2001     1\n",
      "1      orange  2002     4\n",
      "2      banana  2001     5\n",
      "3  strawberry  2008     6\n",
      "4   kiwifruit  2006     3\n"
     ]
    }
   ],
   "source": [
    "import pandas as pd\n",
    "\n",
    "index  = [\"apple\", \"orange\", \"banana\", \"strawberry\", \"kiwifruit\"]\n",
    "\n",
    "data = [10, 5, 8, 12, 3]\n",
    "\n",
    "#\n",
    "# Pandas.Series\n",
    "#\n",
    "series = pd.Series(data, index=index)\n",
    "\n",
    "print( series )\n",
    "\n",
    "\n",
    "#\n",
    "# Pandas.DataFrame\n",
    "#\n",
    "data = {\n",
    "    \"fruits\" : [\"apple\", \"orange\", \"banana\", \"strawberry\", \"kiwifruit\"],\n",
    "    \"year\" : [2001, 2002, 2001, 2008, 2006],\n",
    "    \"time\" : [1, 4, 5, 6, 3]\n",
    "}\n",
    "\n",
    "df = pd.DataFrame(data)\n",
    "\n",
    "print( df )"
   ]
  },
  {
   "cell_type": "markdown",
   "id": "8f0a4322",
   "metadata": {},
   "source": [
    "## 8.2 Series"
   ]
  },
  {
   "cell_type": "markdown",
   "id": "8946ed96",
   "metadata": {},
   "source": [
    "### 8.2.1 Series を生成する"
   ]
  },
  {
   "cell_type": "code",
   "execution_count": 4,
   "id": "04c5ece1",
   "metadata": {},
   "outputs": [
    {
     "name": "stdout",
     "output_type": "stream",
     "text": [
      "banana    3\n",
      "orange    2\n",
      "dtype: int64\n"
     ]
    }
   ],
   "source": [
    "import pandas as pd\n",
    "\n",
    "fruits = {\n",
    "    \"banana\" : 3,\n",
    "    \"orange\" : 2,\n",
    "}\n",
    "\n",
    "print( pd.Series(fruits) )"
   ]
  },
  {
   "cell_type": "code",
   "execution_count": 5,
   "id": "d33eb622",
   "metadata": {},
   "outputs": [
    {
     "name": "stdout",
     "output_type": "stream",
     "text": [
      "apple         10\n",
      "orange         5\n",
      "banana         8\n",
      "strawberry    12\n",
      "kiwifruit      3\n",
      "dtype: int64\n"
     ]
    }
   ],
   "source": [
    "import pandas as pd\n",
    "\n",
    "index = [\"apple\", \"orange\", \"banana\", \"strawberry\", \"kiwifruit\"]\n",
    "data = [10, 5, 8, 12, 3]\n",
    "\n",
    "series = pd.Series(data, index=index)\n",
    "\n",
    "print( series )"
   ]
  },
  {
   "cell_type": "markdown",
   "id": "9aeca435",
   "metadata": {},
   "source": [
    "### 8.2.2 参照"
   ]
  },
  {
   "cell_type": "code",
   "execution_count": 6,
   "id": "4aeb1676",
   "metadata": {},
   "outputs": [
    {
     "name": "stdout",
     "output_type": "stream",
     "text": [
      "banana    3\n",
      "orange    4\n",
      "dtype: int64\n"
     ]
    }
   ],
   "source": [
    "import pandas as pd\n",
    "\n",
    "fruits = {\n",
    "    \"banana\" : 3,\n",
    "    \"orange\" : 4,\n",
    "    \"grape\" : 1,\n",
    "    \"peach\" : 5,\n",
    "}\n",
    "\n",
    "series = pd.Series(fruits)\n",
    "\n",
    "print( series[:2] )"
   ]
  },
  {
   "cell_type": "code",
   "execution_count": 7,
   "id": "848c9615",
   "metadata": {},
   "outputs": [
    {
     "name": "stdout",
     "output_type": "stream",
     "text": [
      "orange    4\n",
      "peach     5\n",
      "dtype: int64\n"
     ]
    }
   ],
   "source": [
    "print( series[[\"orange\", \"peach\"]] )"
   ]
  },
  {
   "cell_type": "code",
   "execution_count": 8,
   "id": "935a2740",
   "metadata": {},
   "outputs": [
    {
     "name": "stdout",
     "output_type": "stream",
     "text": [
      "orange         5\n",
      "banana         8\n",
      "strawberry    12\n",
      "dtype: int64\n",
      "apple        10\n",
      "banana        8\n",
      "kiwifruit     3\n",
      "dtype: int64\n"
     ]
    }
   ],
   "source": [
    "import pandas as pd\n",
    "\n",
    "index = ['apple', 'orange', 'banana', 'strawberry', 'kiwifruit']\n",
    "data = [10, 5, 8, 12, 3]\n",
    "\n",
    "series = pd.Series(data, index=index)\n",
    "\n",
    "print( series[1:4] )\n",
    "\n",
    "print( series[ ['apple', 'banana', 'kiwifruit'] ] )"
   ]
  },
  {
   "cell_type": "markdown",
   "id": "216d8f44",
   "metadata": {},
   "source": [
    "### 8.2.3 データ、インデックスを取り出す"
   ]
  },
  {
   "cell_type": "code",
   "execution_count": 9,
   "id": "35882e79",
   "metadata": {},
   "outputs": [
    {
     "name": "stdout",
     "output_type": "stream",
     "text": [
      "[10  5  8 12  3]\n",
      "Index(['apple', 'orange', 'banana', 'strawberry', 'kiwifruit'], dtype='object')\n"
     ]
    }
   ],
   "source": [
    "import pandas as pd\n",
    "\n",
    "index = ['apple', 'orange', 'banana', 'strawberry', 'kiwifruit']\n",
    "data = [10, 5, 8, 12, 3]\n",
    "\n",
    "series = pd.Series(data, index=index)\n",
    "\n",
    "series_values = series.values\n",
    "series_index = series.index\n",
    "\n",
    "print( series_values )\n",
    "print( series_index )\n"
   ]
  },
  {
   "cell_type": "markdown",
   "id": "41c5bb68",
   "metadata": {},
   "source": [
    "### 8.2.4 要素を追加する"
   ]
  },
  {
   "cell_type": "code",
   "execution_count": 10,
   "id": "9abc2533",
   "metadata": {},
   "outputs": [
    {
     "name": "stdout",
     "output_type": "stream",
     "text": [
      "banana    3\n",
      "orange    2\n",
      "dtype: int64\n",
      "banana    3\n",
      "orange    2\n",
      "grape     3\n",
      "dtype: int64\n"
     ]
    }
   ],
   "source": [
    "import pandas as pd\n",
    "\n",
    "fruits = {\n",
    "    'banana' : 3, \n",
    "    'orange' : 2,\n",
    "}\n",
    "\n",
    "series = pd.Series(fruits)\n",
    "\n",
    "print( series )\n",
    "\n",
    "series = pd.concat([series, pd.Series([3], index=['grape'])])\n",
    "\n",
    "print( series )"
   ]
  },
  {
   "cell_type": "code",
   "execution_count": 11,
   "id": "95258c25",
   "metadata": {},
   "outputs": [
    {
     "name": "stdout",
     "output_type": "stream",
     "text": [
      "apple         10\n",
      "orange         5\n",
      "banana         8\n",
      "strawberry    12\n",
      "kiwifruit      3\n",
      "dtype: int64\n",
      "apple         10\n",
      "orange         5\n",
      "banana         8\n",
      "strawberry    12\n",
      "kiwifruit      3\n",
      "pineapple     12\n",
      "dtype: int64\n"
     ]
    }
   ],
   "source": [
    "import pandas as pd\n",
    "\n",
    "index = ['apple', 'orange', 'banana', 'strawberry', 'kiwifruit']\n",
    "data = [10, 5, 8, 12, 3]\n",
    "\n",
    "series = pd.Series(data, index=index)\n",
    "\n",
    "print( series )\n",
    "\n",
    "series = pd.concat([series, pd.Series([12], index=['pineapple'])])\n",
    "\n",
    "print( series )"
   ]
  },
  {
   "cell_type": "markdown",
   "id": "0f8b9286",
   "metadata": {},
   "source": [
    "### 8.2.5 要素を削除する"
   ]
  },
  {
   "cell_type": "code",
   "execution_count": 12,
   "id": "9ac51f90",
   "metadata": {},
   "outputs": [
    {
     "name": "stdout",
     "output_type": "stream",
     "text": [
      "apple        10\n",
      "orange        5\n",
      "banana        8\n",
      "kiwifruit     3\n",
      "dtype: int64\n"
     ]
    }
   ],
   "source": [
    "import pandas as pd\n",
    "\n",
    "index = ['apple', 'orange', 'banana', 'strawberry', 'kiwifruit']\n",
    "data = [10, 5, 8,12, 3]\n",
    "\n",
    "series = pd.Series(data, index=index)\n",
    "\n",
    "series = series.drop('strawberry')\n",
    "\n",
    "print( series )"
   ]
  },
  {
   "cell_type": "markdown",
   "id": "e563d306",
   "metadata": {},
   "source": [
    "### 8.2.6 フィルタリング"
   ]
  },
  {
   "cell_type": "code",
   "execution_count": 13,
   "id": "3323a93a",
   "metadata": {},
   "outputs": [
    {
     "name": "stdout",
     "output_type": "stream",
     "text": [
      "apple     10\n",
      "orange     5\n",
      "dtype: int64\n"
     ]
    }
   ],
   "source": [
    "import pandas as pd\n",
    "\n",
    "index = ['apple', 'orange', 'banana', 'strawberry', 'kiwifruit']\n",
    "data = [10, 5, 8,12, 3]\n",
    "\n",
    "series = pd.Series(data, index=index)\n",
    "\n",
    "conditions = [True, True, False, False, False]\n",
    "\n",
    "print( series[conditions] )"
   ]
  },
  {
   "cell_type": "code",
   "execution_count": 14,
   "id": "a22106ed",
   "metadata": {},
   "outputs": [
    {
     "name": "stdout",
     "output_type": "stream",
     "text": [
      "apple         10\n",
      "orange         5\n",
      "banana         8\n",
      "strawberry    12\n",
      "dtype: int64\n"
     ]
    }
   ],
   "source": [
    "print( series[series >= 5] )"
   ]
  },
  {
   "cell_type": "code",
   "execution_count": 15,
   "id": "349ec5dd",
   "metadata": {},
   "outputs": [
    {
     "name": "stdout",
     "output_type": "stream",
     "text": [
      "orange    5\n",
      "banana    8\n",
      "dtype: int64\n"
     ]
    }
   ],
   "source": [
    "import pandas as pd\n",
    "\n",
    "index = ['apple', 'orange', 'banana', 'strawberry', 'kiwifruit']\n",
    "data = [10, 5, 8,12, 3]\n",
    "\n",
    "series = pd.Series(data, index=index)\n",
    "\n",
    "print( series[5 <= series][series < 10] )"
   ]
  },
  {
   "cell_type": "markdown",
   "id": "aa4cd73e",
   "metadata": {},
   "source": [
    "### 8.2.7 ソート"
   ]
  },
  {
   "cell_type": "code",
   "execution_count": 16,
   "id": "55ff8332",
   "metadata": {},
   "outputs": [
    {
     "name": "stdout",
     "output_type": "stream",
     "text": [
      "apple         10\n",
      "banana         8\n",
      "kiwifruit      3\n",
      "orange         5\n",
      "strawberry    12\n",
      "dtype: int64\n",
      "kiwifruit      3\n",
      "orange         5\n",
      "banana         8\n",
      "apple         10\n",
      "strawberry    12\n",
      "dtype: int64\n"
     ]
    }
   ],
   "source": [
    "import pandas as pd\n",
    "\n",
    "index = ['apple', 'orange', 'banana', 'strawberry', 'kiwifruit']\n",
    "data = [10, 5, 8,12, 3]\n",
    "\n",
    "series = pd.Series(data, index=index)\n",
    "\n",
    "item1 = series.sort_index()\n",
    "item2 = series.sort_values()\n",
    "\n",
    "print( item1 )\n",
    "print( item2 )"
   ]
  },
  {
   "cell_type": "markdown",
   "id": "3dae5dfc",
   "metadata": {},
   "source": [
    "## 8.3 DataFrame"
   ]
  },
  {
   "cell_type": "markdown",
   "id": "a7fca43d",
   "metadata": {},
   "source": [
    "### 8.3.1 DataFrame の生成"
   ]
  },
  {
   "cell_type": "code",
   "execution_count": 17,
   "id": "b8f97dd4",
   "metadata": {},
   "outputs": [
    {
     "name": "stdout",
     "output_type": "stream",
     "text": [
      "       fruits  year  time\n",
      "0       apple  2001     1\n",
      "1      orange  2002     4\n",
      "2      banana  2001     5\n",
      "3  strawberry  2008     6\n",
      "4   kiwifruit  2006     3\n"
     ]
    }
   ],
   "source": [
    "data = {\n",
    "    'fruits' :  ['apple', 'orange', 'banana', 'strawberry', 'kiwifruit'],\n",
    "    'year' : [2001, 2002, 2001, 2008, 2006],\n",
    "    'time' : [1, 4, 5, 6, 3],\n",
    "}\n",
    "\n",
    "df = pd.DataFrame(data)\n",
    "\n",
    "print( df )"
   ]
  },
  {
   "cell_type": "code",
   "execution_count": 18,
   "id": "c9a046fe",
   "metadata": {},
   "outputs": [
    {
     "name": "stdout",
     "output_type": "stream",
     "text": [
      "   apple  orange  banana  strawberry  kiwifruit\n",
      "0     10       5       8          12          3\n",
      "1     30      25      12          10          8\n"
     ]
    }
   ],
   "source": [
    "import pandas as pd\n",
    "\n",
    "index = ['apple', 'orange', 'banana', 'strawberry', 'kiwifruit']\n",
    "\n",
    "data1 = [10, 5, 8, 12, 3]\n",
    "data2 = [30, 25, 12, 10, 8]\n",
    "\n",
    "# 1次元データ\n",
    "series1 = pd.Series(data1, index=index)\n",
    "series2 = pd.Series(data2, index=index)\n",
    "\n",
    "# 2次元データ\n",
    "df = pd.DataFrame([series1, series2])\n",
    "\n",
    "print(df)"
   ]
  },
  {
   "cell_type": "markdown",
   "id": "ed8c65a4",
   "metadata": {},
   "source": [
    "### 8.3.2 インデックスとカラムを設定する"
   ]
  },
  {
   "cell_type": "code",
   "execution_count": 19,
   "id": "70cff2a3",
   "metadata": {},
   "outputs": [
    {
     "name": "stdout",
     "output_type": "stream",
     "text": [
      "   apple  orange  banana  strawberry  kiwifruit\n",
      "1     10       5       8          12          3\n",
      "2     30      25      12          10          8\n"
     ]
    }
   ],
   "source": [
    "import pandas as pd\n",
    "\n",
    "index = ['apple', 'orange', 'banana', 'strawberry', 'kiwifruit']\n",
    "\n",
    "data1 = [10, 5, 8, 12, 3]\n",
    "data2 = [30, 25, 12, 10, 8]\n",
    "\n",
    "# 1次元データ\n",
    "series1 = pd.Series(data1, index=index)\n",
    "series2 = pd.Series(data2, index=index)\n",
    "\n",
    "# 2次元データ\n",
    "df = pd.DataFrame([series1, series2])\n",
    "df.index = [1, 2]\n",
    "\n",
    "print(df)"
   ]
  },
  {
   "cell_type": "markdown",
   "id": "2ab1e41f",
   "metadata": {},
   "source": [
    "### 8.3.3 行を追加する"
   ]
  },
  {
   "cell_type": "code",
   "execution_count": 20,
   "id": "850eca12",
   "metadata": {},
   "outputs": [
    {
     "name": "stdout",
     "output_type": "stream",
     "text": [
      "       fruits  time    year\n",
      "0       apple     1     NaN\n",
      "1      orange     4     NaN\n",
      "2      banana     5     NaN\n",
      "3  strawberry     6     NaN\n",
      "4   kiwifruit     3     NaN\n",
      "5       mango     7  2008.0\n"
     ]
    },
    {
     "name": "stderr",
     "output_type": "stream",
     "text": [
      "/var/folders/4t/3fc4ys414zj13301xv2kg7_00000gn/T/ipykernel_64351/1962964447.py:12: FutureWarning: The frame.append method is deprecated and will be removed from pandas in a future version. Use pandas.concat instead.\n",
      "  df = df.append(series, ignore_index=True)\n"
     ]
    }
   ],
   "source": [
    "import pandas as pd\n",
    "\n",
    "data = {\n",
    "    'fruits' : ['apple', 'orange', 'banana', 'strawberry', 'kiwifruit'],\n",
    "    'time' : [1, 4, 5, 6, 3]\n",
    "}\n",
    "\n",
    "df = pd.DataFrame(data)\n",
    "\n",
    "series = pd.Series(['mango', 2008, 7], index=['fruits', 'year', 'time'])\n",
    "\n",
    "df = df.append(series, ignore_index=True)\n",
    "\n",
    "print(df)"
   ]
  },
  {
   "cell_type": "code",
   "execution_count": 24,
   "id": "f13f9bcf",
   "metadata": {},
   "outputs": [
    {
     "name": "stdout",
     "output_type": "stream",
     "text": [
      "   apple  orange  banana  strawberry  kiwifruit  pineapple\n",
      "0     10       5       8          12          3        NaN\n",
      "1     30      25      12          10          8        NaN\n",
      "2     30      12      10           8         25        3.0\n"
     ]
    },
    {
     "name": "stderr",
     "output_type": "stream",
     "text": [
      "/var/folders/4t/3fc4ys414zj13301xv2kg7_00000gn/T/ipykernel_64351/1881330440.py:18: FutureWarning: The frame.append method is deprecated and will be removed from pandas in a future version. Use pandas.concat instead.\n",
      "  df = df.append(series3, ignore_index=True)\n"
     ]
    }
   ],
   "source": [
    "import pandas as pd\n",
    "\n",
    "index = ['apple', 'orange', 'banana', 'strawberry', 'kiwifruit']\n",
    "\n",
    "data1 = [10, 5, 8, 12, 3]\n",
    "data2 = [30, 25, 12, 10, 8]\n",
    "data3 = [30, 12, 10, 8, 25, 3]\n",
    "\n",
    "series1 = pd.Series(data1, index=index)\n",
    "series2 = pd.Series(data2, index=index)\n",
    "\n",
    "df = pd.DataFrame([series1, series2])\n",
    "\n",
    "\n",
    "index.append('pineapple')\n",
    "series3 = pd.Series(data3, index=index)\n",
    "\n",
    "df = df.append(series3, ignore_index=True)\n",
    "\n",
    "print(df)"
   ]
  },
  {
   "cell_type": "markdown",
   "id": "60e60d89",
   "metadata": {},
   "source": [
    "### 8.3.4 列を追加する"
   ]
  },
  {
   "cell_type": "code",
   "execution_count": 26,
   "id": "ddbefffa",
   "metadata": {},
   "outputs": [
    {
     "name": "stdout",
     "output_type": "stream",
     "text": [
      "       fruits  year  time  price\n",
      "0       apple  2001     1    150\n",
      "1      orange  2002     4    120\n",
      "2      banana  2001     5    100\n",
      "3  strawberry  2008     6    300\n",
      "4   kiwifruit  2006     3    150\n"
     ]
    }
   ],
   "source": [
    "import pandas as pd\n",
    "\n",
    "data = {\n",
    "    'fruits': ['apple', 'orange', 'banana', 'strawberry', 'kiwifruit'],\n",
    "    'year': [2001, 2002, 2001, 2008, 2006],\n",
    "    'time': [1, 4, 5 , 6, 3]\n",
    "}\n",
    "\n",
    "df = pd.DataFrame(data)\n",
    "\n",
    "df['price'] = [150, 120, 100, 300, 150]\n",
    "\n",
    "print(df)"
   ]
  },
  {
   "cell_type": "code",
   "execution_count": 29,
   "id": "8becc68d",
   "metadata": {},
   "outputs": [
    {
     "name": "stdout",
     "output_type": "stream",
     "text": [
      "   apple  orange  banana  strawberry  kiwifruit  mango\n",
      "0     10       5       8          12          3     15\n",
      "1     30      25      12          10          8      7\n"
     ]
    }
   ],
   "source": [
    "import pandas as pd\n",
    "\n",
    "index = ['apple', 'orange', 'banana', 'strawberry', 'kiwifruit']\n",
    "\n",
    "data1 = [10, 5, 8, 12, 3]\n",
    "data2 = [30, 25, 12, 10, 8]\n",
    "\n",
    "series1 = pd.Series(data1, index=index)\n",
    "series2 = pd.Series(data2, index=index)\n",
    "\n",
    "new_colomn = pd.Series([15, 7], index=[0, 1])\n",
    "\n",
    "df = pd.DataFrame([series1, series2])\n",
    "\n",
    "df['mango'] = new_colomn\n",
    "\n",
    "print(df)"
   ]
  },
  {
   "cell_type": "markdown",
   "id": "5a626a2a",
   "metadata": {},
   "source": [
    "### 8.3.5 データの参照"
   ]
  },
  {
   "cell_type": "markdown",
   "id": "c516faa0",
   "metadata": {},
   "source": [
    "### 8.3.6 名前による参照"
   ]
  },
  {
   "cell_type": "code",
   "execution_count": 30,
   "id": "519e936e",
   "metadata": {},
   "outputs": [
    {
     "name": "stdout",
     "output_type": "stream",
     "text": [
      "       fruits  year  time\n",
      "0       apple  2001     1\n",
      "1      orange  2002     4\n",
      "2      banana  2001     5\n",
      "3  strawberry  2008     6\n",
      "4   kiwifruit  2006     3\n"
     ]
    }
   ],
   "source": [
    "import pandas as pd\n",
    "\n",
    "data = {\n",
    "    'fruits': ['apple', 'orange', 'banana', 'strawberry', 'kiwifruit'],\n",
    "    'year': [2001, 2002, 2001, 2008, 2006],\n",
    "    'time': [1, 4, 5, 6, 3],\n",
    "}\n",
    "\n",
    "df = pd.DataFrame(data)\n",
    "\n",
    "print(df)"
   ]
  },
  {
   "cell_type": "code",
   "execution_count": 31,
   "id": "354819f5",
   "metadata": {},
   "outputs": [
    {
     "name": "stdout",
     "output_type": "stream",
     "text": [
      "   time  year\n",
      "1     4  2002\n",
      "2     5  2001\n"
     ]
    }
   ],
   "source": [
    "df = df.loc[[1,2], ['time', 'year']]\n",
    "\n",
    "print(df)"
   ]
  },
  {
   "cell_type": "code",
   "execution_count": 42,
   "id": "ec5689cc",
   "metadata": {},
   "outputs": [
    {
     "name": "stdout",
     "output_type": "stream",
     "text": [
      "   banana  kiwifruit\n",
      "2      10         10\n",
      "3       9          1\n",
      "4      10          5\n",
      "5       5          8\n"
     ]
    }
   ],
   "source": [
    "import numpy as np\n",
    "import pandas as pd\n",
    "\n",
    "np.random.seed(0)\n",
    "\n",
    "columns = ['apple', 'orange', 'banana', 'strawberry', 'kiwifruit']\n",
    "\n",
    "df = pd.DataFrame()\n",
    "\n",
    "for column in columns:\n",
    "    df[column] = np.random.choice(range(1, 11), 10)\n",
    "    \n",
    "df.index = range(1, 11)\n",
    "\n",
    "df = df.loc[range(2, 6), ['banana', 'kiwifruit']]\n",
    "\n",
    "print(df)\n",
    "\n"
   ]
  },
  {
   "cell_type": "markdown",
   "id": "e8129254",
   "metadata": {},
   "source": [
    "### 8.3.7 番号による参照"
   ]
  },
  {
   "cell_type": "code",
   "execution_count": 43,
   "id": "260867d5",
   "metadata": {},
   "outputs": [
    {
     "name": "stdout",
     "output_type": "stream",
     "text": [
      "       fruits  year  time\n",
      "0       apple  2001     1\n",
      "1      orange  2002     4\n",
      "2      banana  2001     5\n",
      "3  strawberry  2008     6\n",
      "4   kiwifruit  2006     3\n"
     ]
    }
   ],
   "source": [
    "import pandas as pd\n",
    "\n",
    "data = {\n",
    "    'fruits': ['apple', 'orange', 'banana', 'strawberry', 'kiwifruit'],\n",
    "    'year': [2001, 2002, 2001, 2008, 2006],\n",
    "    'time': [1, 4, 5, 6, 3],\n",
    "}\n",
    "\n",
    "df = pd.DataFrame(data)\n",
    "\n",
    "print(df)"
   ]
  },
  {
   "cell_type": "code",
   "execution_count": 44,
   "id": "9a038692",
   "metadata": {},
   "outputs": [
    {
     "name": "stdout",
     "output_type": "stream",
     "text": [
      "       fruits  time\n",
      "1      orange     4\n",
      "3  strawberry     6\n"
     ]
    }
   ],
   "source": [
    "df = df.iloc[[1,3], [0, 2]]\n",
    "\n",
    "print(df)"
   ]
  },
  {
   "cell_type": "code",
   "execution_count": 48,
   "id": "52a51993",
   "metadata": {},
   "outputs": [
    {
     "name": "stdout",
     "output_type": "stream",
     "text": [
      "   banana  kiwifruit\n",
      "2      10         10\n",
      "3       9          1\n",
      "4      10          5\n",
      "5       5          8\n"
     ]
    }
   ],
   "source": [
    "import numpy as np\n",
    "import pandas as pd\n",
    "\n",
    "np.random.seed(0)\n",
    "\n",
    "columns = ['apple', 'orange', 'banana', 'strawberry', 'kiwifruit']\n",
    "\n",
    "df = pd.DataFrame()\n",
    "\n",
    "for column in columns:\n",
    "    df[column] = np.random.choice(range(1, 11), 10)\n",
    "\n",
    "df.index = range(1, 11)\n",
    "\n",
    "df = df.iloc[range(1, 5), [2, 4]]\n",
    " \n",
    "print(df)"
   ]
  },
  {
   "cell_type": "markdown",
   "id": "9f6b0bf2",
   "metadata": {},
   "source": [
    "### 8.3.8 行 または 列を削除"
   ]
  },
  {
   "cell_type": "code",
   "execution_count": 56,
   "id": "42ae7e64",
   "metadata": {},
   "outputs": [
    {
     "name": "stdout",
     "output_type": "stream",
     "text": [
      "       fruits  time  year\n",
      "0       apple     1  2001\n",
      "1      orange     4  2002\n",
      "2      banana     5  2001\n",
      "3  strawberry     6  2008\n",
      "4   kiwifruit     3  2006\n",
      "\n",
      "       fruits  time  year\n",
      "2      banana     5  2001\n",
      "3  strawberry     6  2008\n",
      "4   kiwifruit     3  2006\n",
      "\n",
      "       fruits  time\n",
      "0       apple     1\n",
      "1      orange     4\n",
      "2      banana     5\n",
      "3  strawberry     6\n",
      "4   kiwifruit     3\n"
     ]
    }
   ],
   "source": [
    "import pandas as pd\n",
    "\n",
    "data = {\n",
    "    'fruits': ['apple', 'orange', 'banana', 'strawberry', 'kiwifruit'],\n",
    "    'time': [1, 4, 5, 6, 3],\n",
    "    'year': [2001, 2002, 2001, 2008, 2006],\n",
    "}\n",
    "\n",
    "df = pd.DataFrame(data)\n",
    "\n",
    "print(df)\n",
    "\n",
    "print()\n",
    "\n",
    "df_1 = df.drop(range(0, 2))\n",
    "\n",
    "print(df_1)\n",
    "\n",
    "print()\n",
    "\n",
    "df_2 = df.drop('year', axis=1)\n",
    "\n",
    "print(df_2)"
   ]
  },
  {
   "cell_type": "code",
   "execution_count": 60,
   "id": "d4fbea5d",
   "metadata": {},
   "outputs": [
    {
     "name": "stdout",
     "output_type": "stream",
     "text": [
      "   apple  orange  banana  strawberry  kiwifruit\n",
      "1     10      10       2           6          5\n",
      "3      6       8       3           1          1\n",
      "5      5       3       2           2          4\n",
      "7      4      10       9           1          4\n",
      "9      8       8       1           9          2\n",
      "\n",
      "    apple  orange  banana  kiwifruit\n",
      "1      10      10       2          5\n",
      "2       8      10       3          5\n",
      "3       6       8       3          1\n",
      "4       4       4       9         10\n",
      "5       5       3       2          4\n",
      "6       6       4       6          8\n",
      "7       4      10       9          4\n",
      "8       4       8       5          3\n",
      "9       8       8       1          2\n",
      "10     10       6       3          2\n"
     ]
    }
   ],
   "source": [
    "import numpy as np\n",
    "import pandas as pd\n",
    "\n",
    "columns = ['apple', 'orange', 'banana', 'strawberry', 'kiwifruit']\n",
    "\n",
    "df = pd.DataFrame()\n",
    "\n",
    "for column in columns:\n",
    "    df[column] = np.random.choice(range(1, 11), 10)\n",
    "    \n",
    "df.index = range(1, 11)\n",
    "\n",
    "df_1 = df.drop(range(2, 11, 2))\n",
    "\n",
    "print(df_1)\n",
    "print()\n",
    "\n",
    "df_2 = df.drop('strawberry', axis=1)\n",
    "\n",
    "print(df_2)"
   ]
  },
  {
   "cell_type": "markdown",
   "id": "65d5b4b6",
   "metadata": {},
   "source": [
    "### 8.3.9 ソート"
   ]
  },
  {
   "cell_type": "code",
   "execution_count": 64,
   "id": "09a9657c",
   "metadata": {},
   "outputs": [
    {
     "name": "stdout",
     "output_type": "stream",
     "text": [
      "       fruits  time  year\n",
      "0       apple     1  2001\n",
      "1      orange     4  2002\n",
      "2      banana     5  2001\n",
      "3  strawberry     6  2000\n",
      "4   kiwifruit     3  2006\n",
      "\n",
      "       fruits  time  year\n",
      "3  strawberry     6  2000\n",
      "0       apple     1  2001\n",
      "2      banana     5  2001\n",
      "1      orange     4  2002\n",
      "4   kiwifruit     3  2006\n",
      "\n",
      "       fruits  time  year\n",
      "0       apple     1  2001\n",
      "4   kiwifruit     3  2006\n",
      "1      orange     4  2002\n",
      "2      banana     5  2001\n",
      "3  strawberry     6  2000\n",
      "\n"
     ]
    }
   ],
   "source": [
    "import pandas as pd\n",
    "\n",
    "data = {\n",
    "    'fruits': ['apple', 'orange', 'banana', 'strawberry', 'kiwifruit'],\n",
    "    'time': [1, 4, 5, 6, 3],\n",
    "    'year': [2001, 2002, 2001, 2000, 2006],\n",
    "}\n",
    "\n",
    "df = pd.DataFrame(data)\n",
    "\n",
    "print(df)\n",
    "print()\n",
    "\n",
    "df = df.sort_values(by=['year'], ascending=True)\n",
    "\n",
    "print(df)\n",
    "print()\n",
    "\n",
    "df = df.sort_values(by=['time', 'year'], ascending=True)\n",
    "\n",
    "print(df)\n",
    "print()"
   ]
  },
  {
   "cell_type": "code",
   "execution_count": 68,
   "id": "72c34447",
   "metadata": {},
   "outputs": [
    {
     "name": "stdout",
     "output_type": "stream",
     "text": [
      "    apple  orange  banana  strawberry  kiwifruit\n",
      "1       6       8       6           3         10\n",
      "2       1       7      10           4         10\n",
      "3       4       9       9           9          1\n",
      "4       4       9      10           2          5\n",
      "5       8       2       5           4          8\n",
      "6      10       7       4           4          4\n",
      "7       4       8       1           4          3\n",
      "8       6       8       4           8          8\n",
      "9       3       9       6           1          3\n",
      "10      5       2       1           2          1\n",
      "\n",
      "    apple  orange  banana  strawberry  kiwifruit\n",
      "2       1       7      10           4         10\n",
      "9       3       9       6           1          3\n",
      "7       4       8       1           4          3\n",
      "3       4       9       9           9          1\n",
      "4       4       9      10           2          5\n",
      "10      5       2       1           2          1\n",
      "8       6       8       4           8          8\n",
      "1       6       8       6           3         10\n",
      "5       8       2       5           4          8\n",
      "6      10       7       4           4          4\n"
     ]
    }
   ],
   "source": [
    "import numpy as np\n",
    "import pandas as pd\n",
    "\n",
    "np.random.seed(0)\n",
    "\n",
    "columns = ['apple', 'orange', 'banana', 'strawberry', 'kiwifruit']\n",
    "\n",
    "df = pd.DataFrame()\n",
    "\n",
    "for column in columns:\n",
    "    df[column] = np.random.choice(range(1, 11), 10)\n",
    "    \n",
    "df.index = range(1, 11)\n",
    "\n",
    "print(df)\n",
    "print()\n",
    "\n",
    "df = df.sort_values(by=columns, ascending=True)\n",
    "\n",
    "print(df)\n",
    "\n",
    "\n"
   ]
  },
  {
   "cell_type": "markdown",
   "id": "730e2f68",
   "metadata": {},
   "source": [
    "### 8.3.10 フィルタリング"
   ]
  },
  {
   "cell_type": "code",
   "execution_count": 70,
   "id": "5b8ffc6f",
   "metadata": {},
   "outputs": [
    {
     "name": "stdout",
     "output_type": "stream",
     "text": [
      "[ True False  True False  True]\n",
      "\n",
      "      fruits  year  time\n",
      "0      apple  2001     1\n",
      "2     banana  2001     5\n",
      "4  kiwifruit  2006     3\n"
     ]
    }
   ],
   "source": [
    "import pandas as pd\n",
    "\n",
    "data = {\n",
    "    'fruits': ['apple', 'orange', 'banana', 'strawberry', 'kiwifruit'],\n",
    "    'year': [2001, 2002, 2001, 2008, 2006],\n",
    "    'time': [1, 4, 5, 6, 3],\n",
    "}\n",
    "\n",
    "df = pd.DataFrame(data)\n",
    "\n",
    "print(df.index % 2 == 0)\n",
    "print()\n",
    "print(df[df.index % 2 == 0])"
   ]
  },
  {
   "cell_type": "code",
   "execution_count": 75,
   "id": "b066fc75",
   "metadata": {},
   "outputs": [
    {
     "name": "stdout",
     "output_type": "stream",
     "text": [
      "   apple  orange  banana  strawberry  kiwifruit\n",
      "1      6       8       6           3         10\n",
      "5      8       2       5           4          8\n",
      "8      6       8       4           8          8\n"
     ]
    },
    {
     "name": "stderr",
     "output_type": "stream",
     "text": [
      "/var/folders/4t/3fc4ys414zj13301xv2kg7_00000gn/T/ipykernel_64351/2161633948.py:15: UserWarning: Boolean Series key will be reindexed to match DataFrame index.\n",
      "  df = df.loc[df['apple'] >= 5][df['kiwifruit'] >= 5]\n"
     ]
    }
   ],
   "source": [
    "import numpy as np\n",
    "import pandas as pd\n",
    "\n",
    "np.random.seed(0)\n",
    "\n",
    "columns = ['apple', 'orange', 'banana', 'strawberry', 'kiwifruit']\n",
    "\n",
    "df = pd.DataFrame()\n",
    "\n",
    "for column in columns:\n",
    "    df[column] = np.random.choice(range(1, 11), 10)\n",
    "\n",
    "df.index = range(1, 11)\n",
    "\n",
    "df = df.loc[df['apple'] >= 5][df['kiwifruit'] >= 5]\n",
    "\n",
    "print(df)\n"
   ]
  },
  {
   "cell_type": "markdown",
   "id": "73c61eba",
   "metadata": {},
   "source": [
    "## 添削問題"
   ]
  },
  {
   "cell_type": "code",
   "execution_count": 91,
   "id": "3e4b310e",
   "metadata": {},
   "outputs": [
    {
     "name": "stdout",
     "output_type": "stream",
     "text": [
      "growth      50\n",
      "mission      7\n",
      "ishikawa    26\n",
      "pro          1\n",
      "dtype: int64\n",
      "\n",
      "growth      50\n",
      "ishikawa    26\n",
      "mission      7\n",
      "pro          1\n",
      "dtype: int64\n",
      "\n",
      "growth      50\n",
      "ishikawa    26\n",
      "mission      7\n",
      "pro          1\n",
      "dtype: int64\n",
      "\n",
      "growth      50\n",
      "mission      7\n",
      "ishikawa    26\n",
      "pro          1\n",
      "tutor       30\n",
      "dtype: int64\n",
      "\n",
      "    growth  mission  ishikawa  pro\n",
      "1        3        8        10    5\n",
      "2        2        7        10    9\n",
      "3        5        2         3    5\n",
      "4        3        7         1    4\n",
      "5        6        8        10    4\n",
      "6        6        3         2    9\n",
      "7        6        4        10    9\n",
      "8        3        2         1    8\n",
      "9        6       10         7    1\n",
      "10       8        6         1    4\n",
      "\n",
      "   ishikawa\n",
      "2        10\n",
      "3         3\n",
      "4         1\n",
      "5        10\n"
     ]
    },
    {
     "name": "stderr",
     "output_type": "stream",
     "text": [
      "/var/folders/4t/3fc4ys414zj13301xv2kg7_00000gn/T/ipykernel_64351/3274778397.py:21: FutureWarning: The series.append method is deprecated and will be removed from pandas in a future version. Use pandas.concat instead.\n",
      "  aidemy2 = series.append(aidemy1)\n"
     ]
    }
   ],
   "source": [
    "import numpy as np\n",
    "import pandas as pd\n",
    "\n",
    "index = ['growth', 'mission', 'ishikawa', 'pro']\n",
    "\n",
    "data = [50, 7, 26, 1]\n",
    "\n",
    "series = pd.Series(data, index=index)\n",
    "\n",
    "print(series)\n",
    "print()\n",
    "\n",
    "# インデックスについてアルファベット順にソートした series を aidemy に代入する\n",
    "aidemy = series.sort_index()\n",
    "\n",
    "print(aidemy)\n",
    "print()\n",
    "\n",
    "# series にインデックスが 'tutor'、データが 30 の要素を追加してください\n",
    "aidemy1 = pd.Series([30], index=['tutor'])\n",
    "aidemy2 = series.append(aidemy1)\n",
    "\n",
    "print(aidemy)\n",
    "print()\n",
    "print(aidemy2)\n",
    "print()\n",
    "\n",
    "# DataFrameを生成し、列を追加します\n",
    "df = pd.DataFrame()\n",
    "\n",
    "for i in index:\n",
    "    df[i] = np.random.choice(range(1, 11), 10)\n",
    "\n",
    "df.index = range(1, 11)\n",
    "\n",
    "print(df)\n",
    "print()\n",
    "\n",
    "# loc[]を使って df の2行目から5行目までの4行と、'ishikawa' を含むDataFrameをaidemy3に代入する\n",
    "\n",
    "aidemy3 = df.loc[range(2, 6), ['ishikawa']]\n",
    "\n",
    "print(aidemy3)\n",
    "\n"
   ]
  },
  {
   "cell_type": "code",
   "execution_count": null,
   "id": "e404c34e",
   "metadata": {},
   "outputs": [],
   "source": []
  }
 ],
 "metadata": {
  "kernelspec": {
   "display_name": "Python 3 (ipykernel)",
   "language": "python",
   "name": "python3"
  },
  "language_info": {
   "codemirror_mode": {
    "name": "ipython",
    "version": 3
   },
   "file_extension": ".py",
   "mimetype": "text/x-python",
   "name": "python",
   "nbconvert_exporter": "python",
   "pygments_lexer": "ipython3",
   "version": "3.10.8"
  }
 },
 "nbformat": 4,
 "nbformat_minor": 5
}

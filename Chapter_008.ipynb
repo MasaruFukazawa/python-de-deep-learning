{
 "cells": [
  {
   "cell_type": "markdown",
   "id": "90664b73",
   "metadata": {},
   "source": [
    "# 8章 Pandasの基礎"
   ]
  },
  {
   "cell_type": "markdown",
   "id": "7298f7f0",
   "metadata": {},
   "source": [
    "## 8.1 Pandaとは"
   ]
  },
  {
   "cell_type": "markdown",
   "id": "b33a814d",
   "metadata": {},
   "source": [
    "#### 8.1.2 Series と DataFrame のデータの確認"
   ]
  },
  {
   "cell_type": "code",
   "execution_count": 1,
   "id": "aa1908b1",
   "metadata": {},
   "outputs": [
    {
     "name": "stdout",
     "output_type": "stream",
     "text": [
      "orange    2\n",
      "banana    3\n",
      "dtype: int64\n"
     ]
    }
   ],
   "source": [
    "import pandas as pd\n",
    "\n",
    "fruits = {\n",
    "    \"orange\" : 2, \n",
    "    \"banana\" : 3,\n",
    "}\n",
    "\n",
    "print( pd.Series(fruits) )"
   ]
  },
  {
   "cell_type": "code",
   "execution_count": 2,
   "id": "a7dcb402",
   "metadata": {},
   "outputs": [
    {
     "name": "stdout",
     "output_type": "stream",
     "text": [
      "       fruits  year  time\n",
      "0       apple  2001     1\n",
      "1      orange  2002     4\n",
      "2      banana  2001     5\n",
      "3  strawberry  2008     6\n",
      "4   kiwifruit  2006     3\n"
     ]
    }
   ],
   "source": [
    "import pandas as pd\n",
    "\n",
    "data = {\n",
    "    \"fruits\" : [\"apple\", \"orange\", \"banana\", \"strawberry\", \"kiwifruit\"],\n",
    "    \"year\" : [2001, 2002, 2001, 2008, 2006],\n",
    "    \"time\" : [1, 4, 5, 6, 3],\n",
    "}\n",
    "\n",
    "df = pd.DataFrame(data)\n",
    "\n",
    "print( df )"
   ]
  },
  {
   "cell_type": "code",
   "execution_count": 3,
   "id": "c20419c3",
   "metadata": {},
   "outputs": [
    {
     "name": "stdout",
     "output_type": "stream",
     "text": [
      "apple         10\n",
      "orange         5\n",
      "banana         8\n",
      "strawberry    12\n",
      "kiwifruit      3\n",
      "dtype: int64\n",
      "       fruits  year  time\n",
      "0       apple  2001     1\n",
      "1      orange  2002     4\n",
      "2      banana  2001     5\n",
      "3  strawberry  2008     6\n",
      "4   kiwifruit  2006     3\n"
     ]
    }
   ],
   "source": [
    "import pandas as pd\n",
    "\n",
    "index  = [\"apple\", \"orange\", \"banana\", \"strawberry\", \"kiwifruit\"]\n",
    "\n",
    "data = [10, 5, 8, 12, 3]\n",
    "\n",
    "#\n",
    "# Pandas.Series\n",
    "#\n",
    "series = pd.Series(data, index=index)\n",
    "\n",
    "print( series )\n",
    "\n",
    "\n",
    "#\n",
    "# Pandas.DataFrame\n",
    "#\n",
    "data = {\n",
    "    \"fruits\" : [\"apple\", \"orange\", \"banana\", \"strawberry\", \"kiwifruit\"],\n",
    "    \"year\" : [2001, 2002, 2001, 2008, 2006],\n",
    "    \"time\" : [1, 4, 5, 6, 3]\n",
    "}\n",
    "\n",
    "df = pd.DataFrame(data)\n",
    "\n",
    "print( df )"
   ]
  },
  {
   "cell_type": "markdown",
   "id": "8f0a4322",
   "metadata": {},
   "source": [
    "## 8.2 Series"
   ]
  },
  {
   "cell_type": "markdown",
   "id": "8946ed96",
   "metadata": {},
   "source": [
    "### 8.2.1 Series を生成する"
   ]
  },
  {
   "cell_type": "code",
   "execution_count": 4,
   "id": "04c5ece1",
   "metadata": {},
   "outputs": [
    {
     "name": "stdout",
     "output_type": "stream",
     "text": [
      "banana    3\n",
      "orange    2\n",
      "dtype: int64\n"
     ]
    }
   ],
   "source": [
    "import pandas as pd\n",
    "\n",
    "fruits = {\n",
    "    \"banana\" : 3,\n",
    "    \"orange\" : 2,\n",
    "}\n",
    "\n",
    "print( pd.Series(fruits) )"
   ]
  },
  {
   "cell_type": "code",
   "execution_count": 5,
   "id": "d33eb622",
   "metadata": {},
   "outputs": [
    {
     "name": "stdout",
     "output_type": "stream",
     "text": [
      "apple         10\n",
      "orange         5\n",
      "banana         8\n",
      "strawberry    12\n",
      "kiwifruit      3\n",
      "dtype: int64\n"
     ]
    }
   ],
   "source": [
    "import pandas as pd\n",
    "\n",
    "index = [\"apple\", \"orange\", \"banana\", \"strawberry\", \"kiwifruit\"]\n",
    "data = [10, 5, 8, 12, 3]\n",
    "\n",
    "series = pd.Series(data, index=index)\n",
    "\n",
    "print( series )"
   ]
  },
  {
   "cell_type": "markdown",
   "id": "9aeca435",
   "metadata": {},
   "source": [
    "### 8.2.2 参照"
   ]
  },
  {
   "cell_type": "code",
   "execution_count": 6,
   "id": "4aeb1676",
   "metadata": {},
   "outputs": [
    {
     "name": "stdout",
     "output_type": "stream",
     "text": [
      "banana    3\n",
      "orange    4\n",
      "dtype: int64\n"
     ]
    }
   ],
   "source": [
    "import pandas as pd\n",
    "\n",
    "fruits = {\n",
    "    \"banana\" : 3,\n",
    "    \"orange\" : 4,\n",
    "    \"grape\" : 1,\n",
    "    \"peach\" : 5,\n",
    "}\n",
    "\n",
    "series = pd.Series(fruits)\n",
    "\n",
    "print( series[:2] )"
   ]
  },
  {
   "cell_type": "code",
   "execution_count": 7,
   "id": "848c9615",
   "metadata": {},
   "outputs": [
    {
     "name": "stdout",
     "output_type": "stream",
     "text": [
      "orange    4\n",
      "peach     5\n",
      "dtype: int64\n"
     ]
    }
   ],
   "source": [
    "print( series[[\"orange\", \"peach\"]] )"
   ]
  },
  {
   "cell_type": "code",
   "execution_count": 11,
   "id": "935a2740",
   "metadata": {},
   "outputs": [
    {
     "name": "stdout",
     "output_type": "stream",
     "text": [
      "orange         5\n",
      "banana         8\n",
      "strawberry    12\n",
      "dtype: int64\n",
      "apple        10\n",
      "banana        8\n",
      "kiwifruit     3\n",
      "dtype: int64\n"
     ]
    }
   ],
   "source": [
    "import pandas as pd\n",
    "\n",
    "index = ['apple', 'orange', 'banana', 'strawberry', 'kiwifruit']\n",
    "data = [10, 5, 8, 12, 3]\n",
    "\n",
    "series = pd.Series(data, index=index)\n",
    "\n",
    "print( series[1:4] )\n",
    "\n",
    "print( series[ ['apple', 'banana', 'kiwifruit'] ] )"
   ]
  },
  {
   "cell_type": "markdown",
   "id": "216d8f44",
   "metadata": {},
   "source": [
    "### 8.2.3 データ、インデックスを取り出す"
   ]
  },
  {
   "cell_type": "code",
   "execution_count": 15,
   "id": "35882e79",
   "metadata": {},
   "outputs": [
    {
     "name": "stdout",
     "output_type": "stream",
     "text": [
      "[10  5  8 12  3]\n",
      "Index(['apple', 'orange', 'banana', 'strawberry', 'kiwifruit'], dtype='object')\n"
     ]
    }
   ],
   "source": [
    "import pandas as pd\n",
    "\n",
    "index = ['apple', 'orange', 'banana', 'strawberry', 'kiwifruit']\n",
    "data = [10, 5, 8, 12, 3]\n",
    "\n",
    "series = pd.Series(data, index=index)\n",
    "\n",
    "series_values = series.values\n",
    "series_index = series.index\n",
    "\n",
    "print( series_values )\n",
    "print( series_index )\n"
   ]
  },
  {
   "cell_type": "markdown",
   "id": "41c5bb68",
   "metadata": {},
   "source": [
    "### 8.2.4 要素を追加する"
   ]
  },
  {
   "cell_type": "code",
   "execution_count": 19,
   "id": "9abc2533",
   "metadata": {},
   "outputs": [
    {
     "name": "stdout",
     "output_type": "stream",
     "text": [
      "banana    3\n",
      "orange    2\n",
      "dtype: int64\n",
      "banana    3\n",
      "orange    2\n",
      "grape     3\n",
      "dtype: int64\n"
     ]
    }
   ],
   "source": [
    "import pandas as pd\n",
    "\n",
    "fruits = {\n",
    "    'banana' : 3, \n",
    "    'orange' : 2,\n",
    "}\n",
    "\n",
    "series = pd.Series(fruits)\n",
    "\n",
    "print( series )\n",
    "\n",
    "series = pd.concat([series, pd.Series([3], index=['grape'])])\n",
    "\n",
    "print( series )"
   ]
  },
  {
   "cell_type": "code",
   "execution_count": 21,
   "id": "95258c25",
   "metadata": {},
   "outputs": [
    {
     "name": "stdout",
     "output_type": "stream",
     "text": [
      "apple         10\n",
      "orange         5\n",
      "banana         8\n",
      "strawberry    12\n",
      "kiwifruit      3\n",
      "dtype: int64\n",
      "apple         10\n",
      "orange         5\n",
      "banana         8\n",
      "strawberry    12\n",
      "kiwifruit      3\n",
      "pineapple     12\n",
      "dtype: int64\n"
     ]
    }
   ],
   "source": [
    "import pandas as pd\n",
    "\n",
    "index = ['apple', 'orange', 'banana', 'strawberry', 'kiwifruit']\n",
    "data = [10, 5, 8, 12, 3]\n",
    "\n",
    "series = pd.Series(data, index=index)\n",
    "\n",
    "print( series )\n",
    "\n",
    "series = pd.concat([series, pd.Series([12], index=['pineapple'])])\n",
    "\n",
    "print( series )"
   ]
  },
  {
   "cell_type": "markdown",
   "id": "0f8b9286",
   "metadata": {},
   "source": [
    "### 8.2.5 要素を削除する"
   ]
  },
  {
   "cell_type": "code",
   "execution_count": 1,
   "id": "9ac51f90",
   "metadata": {},
   "outputs": [
    {
     "name": "stdout",
     "output_type": "stream",
     "text": [
      "apple        10\n",
      "orange        5\n",
      "banana        8\n",
      "kiwifruit     3\n",
      "dtype: int64\n"
     ]
    }
   ],
   "source": [
    "import pandas as pd\n",
    "\n",
    "index = ['apple', 'orange', 'banana', 'strawberry', 'kiwifruit']\n",
    "data = [10, 5, 8,12, 3]\n",
    "\n",
    "series = pd.Series(data, index=index)\n",
    "\n",
    "series = series.drop('strawberry')\n",
    "\n",
    "print( series )"
   ]
  },
  {
   "cell_type": "markdown",
   "id": "e563d306",
   "metadata": {},
   "source": [
    "### 8.2.6 フィルタリング"
   ]
  },
  {
   "cell_type": "code",
   "execution_count": 2,
   "id": "3323a93a",
   "metadata": {},
   "outputs": [
    {
     "name": "stdout",
     "output_type": "stream",
     "text": [
      "apple     10\n",
      "orange     5\n",
      "dtype: int64\n"
     ]
    }
   ],
   "source": [
    "import pandas as pd\n",
    "\n",
    "index = ['apple', 'orange', 'banana', 'strawberry', 'kiwifruit']\n",
    "data = [10, 5, 8,12, 3]\n",
    "\n",
    "series = pd.Series(data, index=index)\n",
    "\n",
    "conditions = [True, True, False, False, False]\n",
    "\n",
    "print( series[conditions] )"
   ]
  },
  {
   "cell_type": "code",
   "execution_count": 3,
   "id": "a22106ed",
   "metadata": {},
   "outputs": [
    {
     "name": "stdout",
     "output_type": "stream",
     "text": [
      "apple         10\n",
      "orange         5\n",
      "banana         8\n",
      "strawberry    12\n",
      "dtype: int64\n"
     ]
    }
   ],
   "source": [
    "print( series[series >= 5] )"
   ]
  },
  {
   "cell_type": "code",
   "execution_count": 5,
   "id": "349ec5dd",
   "metadata": {},
   "outputs": [
    {
     "name": "stdout",
     "output_type": "stream",
     "text": [
      "orange    5\n",
      "banana    8\n",
      "dtype: int64\n"
     ]
    }
   ],
   "source": [
    "import pandas as pd\n",
    "\n",
    "index = ['apple', 'orange', 'banana', 'strawberry', 'kiwifruit']\n",
    "data = [10, 5, 8,12, 3]\n",
    "\n",
    "series = pd.Series(data, index=index)\n",
    "\n",
    "print( series[5 <= series][series < 10] )"
   ]
  },
  {
   "cell_type": "markdown",
   "id": "aa4cd73e",
   "metadata": {},
   "source": [
    "### 8.2.7 ソート"
   ]
  },
  {
   "cell_type": "code",
   "execution_count": 8,
   "id": "55ff8332",
   "metadata": {},
   "outputs": [
    {
     "name": "stdout",
     "output_type": "stream",
     "text": [
      "apple         10\n",
      "banana         8\n",
      "kiwifruit      3\n",
      "orange         5\n",
      "strawberry    12\n",
      "dtype: int64\n",
      "kiwifruit      3\n",
      "orange         5\n",
      "banana         8\n",
      "apple         10\n",
      "strawberry    12\n",
      "dtype: int64\n"
     ]
    }
   ],
   "source": [
    "import pandas as pd\n",
    "\n",
    "index = ['apple', 'orange', 'banana', 'strawberry', 'kiwifruit']\n",
    "data = [10, 5, 8,12, 3]\n",
    "\n",
    "series = pd.Series(data, index=index)\n",
    "\n",
    "item1 = series.sort_index()\n",
    "item2 = series.sort_values()\n",
    "\n",
    "print( item1 )\n",
    "print( item2 )"
   ]
  },
  {
   "cell_type": "markdown",
   "id": "3dae5dfc",
   "metadata": {},
   "source": [
    "## 8.3 DataFrame"
   ]
  },
  {
   "cell_type": "markdown",
   "id": "a7fca43d",
   "metadata": {},
   "source": [
    "### 8.3.1 DataFrame の生成"
   ]
  },
  {
   "cell_type": "code",
   "execution_count": 9,
   "id": "b8f97dd4",
   "metadata": {},
   "outputs": [
    {
     "name": "stdout",
     "output_type": "stream",
     "text": [
      "       fruits  year  time\n",
      "0       apple  2001     1\n",
      "1      orange  2002     4\n",
      "2      banana  2001     5\n",
      "3  strawberry  2008     6\n",
      "4   kiwifruit  2006     3\n"
     ]
    }
   ],
   "source": [
    "data = {\n",
    "    'fruits' :  ['apple', 'orange', 'banana', 'strawberry', 'kiwifruit'],\n",
    "    'year' : [2001, 2002, 2001, 2008, 2006],\n",
    "    'time' : [1, 4, 5, 6, 3],\n",
    "}\n",
    "\n",
    "df = pd.DataFrame(data)\n",
    "\n",
    "print( df )"
   ]
  },
  {
   "cell_type": "code",
   "execution_count": null,
   "id": "f34a1644",
   "metadata": {},
   "outputs": [],
   "source": []
  }
 ],
 "metadata": {
  "kernelspec": {
   "display_name": "Python 3 (ipykernel)",
   "language": "python",
   "name": "python3"
  },
  "language_info": {
   "codemirror_mode": {
    "name": "ipython",
    "version": 3
   },
   "file_extension": ".py",
   "mimetype": "text/x-python",
   "name": "python",
   "nbconvert_exporter": "python",
   "pygments_lexer": "ipython3",
   "version": "3.9.0"
  }
 },
 "nbformat": 4,
 "nbformat_minor": 5
}

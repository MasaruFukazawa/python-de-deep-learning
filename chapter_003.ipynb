{
 "cells": [
  {
   "cell_type": "markdown",
   "id": "9df42b4f",
   "metadata": {},
   "source": [
    "# 3章 性能評価指標\n",
    "\n",
    "## 混同行列\n",
    "- 真陽性 (True Positive) : 予測 : 陽性、結果 : 陽性\n",
    "- 真陰性 (True Negative) : 予測 : 陰性、結果 : 陰性\n",
    "- 偽陽性 (False Positive) : 予測 : 陽性、結果 : 陰性\n",
    "- 偽陰性 (False Negative) : 予測 : 陰性、結果 : 陽性\n",
    "\n",
    "真 : 予測があたっている / 偽 : 予測が外れている\n",
    "\n",
    "- 陽性と予測してあたった : 真陽性\n",
    "- 陰性と予測してあたった : 真陰性\n",
    "- 陽性と予測して外れた : 偽陽性\n",
    "- 陰性と予測して外れた : 偽陰性\n"
   ]
  },
  {
   "cell_type": "markdown",
   "id": "046cc188",
   "metadata": {},
   "source": [
    "## 混同行列を実装する"
   ]
  },
  {
   "cell_type": "code",
   "execution_count": 2,
   "id": "82a6014e",
   "metadata": {},
   "outputs": [
    {
     "name": "stdout",
     "output_type": "stream",
     "text": [
      "[[2 1]\n",
      " [0 3]]\n"
     ]
    }
   ],
   "source": [
    "import numpy\n",
    "from sklearn.metrics import confusion_matrix\n",
    "\n",
    "y_true = [0, 0, 0, 1, 1, 1,]\n",
    "y_pred = [1, 0, 0, 1, 1, 1,]\n",
    "\n",
    "confmat = confusion_matrix(y_true, y_pred)\n",
    "\n",
    "print(confmat)"
   ]
  },
  {
   "cell_type": "markdown",
   "id": "32b4f213",
   "metadata": {},
   "source": [
    "## 性能評価指数を実装する"
   ]
  },
  {
   "cell_type": "code",
   "execution_count": 7,
   "id": "96da245d",
   "metadata": {},
   "outputs": [
    {
     "name": "stdout",
     "output_type": "stream",
     "text": [
      "Precision: 0.750\n",
      "Recall: 1.000\n",
      "F1: 0.857\n"
     ]
    }
   ],
   "source": [
    "from sklearn.metrics import precision_score, recall_score, f1_score\n",
    "\n",
    "y_true = [0, 0, 0, 1, 1, 1,]\n",
    "y_pred = [1, 0, 0, 1, 1, 1,]\n",
    "\n",
    "print(\"Precision: %.3f\" % precision_score(y_true,  y_pred))\n",
    "print(\"Recall: %.3f\" % recall_score(y_true,  y_pred))\n",
    "print(\"F1: %.3f\" % f1_score(y_true,  y_pred))"
   ]
  },
  {
   "cell_type": "code",
   "execution_count": 8,
   "id": "4d7bd576",
   "metadata": {},
   "outputs": [
    {
     "name": "stdout",
     "output_type": "stream",
     "text": [
      "F1: 0.800\n"
     ]
    }
   ],
   "source": [
    "from sklearn.metrics import precision_score, recall_score\n",
    "\n",
    "y_true = [1, 1, 1, 0, 0, 0,]\n",
    "y_pred = [0, 1, 1, 0, 0, 0,]\n",
    "\n",
    "precision = precision_score(y_true,  y_pred)\n",
    "recall = recall_score(y_true,  y_pred)\n",
    "\n",
    "f1_score = (2 * (precision * recall)) / (precision + recall)\n",
    "\n",
    "print(\"F1: %.3f\" % f1_score)"
   ]
  },
  {
   "cell_type": "code",
   "execution_count": null,
   "id": "91d37299",
   "metadata": {},
   "outputs": [],
   "source": []
  }
 ],
 "metadata": {
  "kernelspec": {
   "display_name": "Python 3 (ipykernel)",
   "language": "python",
   "name": "python3"
  },
  "language_info": {
   "codemirror_mode": {
    "name": "ipython",
    "version": 3
   },
   "file_extension": ".py",
   "mimetype": "text/x-python",
   "name": "python",
   "nbconvert_exporter": "python",
   "pygments_lexer": "ipython3",
   "version": "3.9.0"
  }
 },
 "nbformat": 4,
 "nbformat_minor": 5
}

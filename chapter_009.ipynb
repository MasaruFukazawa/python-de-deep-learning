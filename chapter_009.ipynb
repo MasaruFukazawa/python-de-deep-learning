{
 "cells": [
  {
   "cell_type": "markdown",
   "id": "5efd56b4",
   "metadata": {},
   "source": [
    "# 第9章 Pandasの応用"
   ]
  },
  {
   "cell_type": "markdown",
   "id": "4c395b9e",
   "metadata": {},
   "source": [
    "## 9.1 DataFrameの連結・結合の概観"
   ]
  },
  {
   "cell_type": "markdown",
   "id": "8851b32a",
   "metadata": {},
   "source": [
    "### 9.1.1 連結・結合について"
   ]
  },
  {
   "cell_type": "markdown",
   "id": "3bc16fcd",
   "metadata": {},
   "source": [
    "## 9.2 DataFrameの連結"
   ]
  },
  {
   "cell_type": "markdown",
   "id": "62e64cfa",
   "metadata": {},
   "source": [
    "### 9.2.1 インデックス、カラムが一致しているDataFrame同士の連結"
   ]
  },
  {
   "cell_type": "code",
   "execution_count": 74,
   "id": "4bfb276d",
   "metadata": {},
   "outputs": [
    {
     "name": "stdout",
     "output_type": "stream",
     "text": [
      "   apple  orange  banana\n",
      "1     45      68      37\n",
      "2     48      10      88\n",
      "3     65      84      71\n",
      "4     68      22      89\n",
      "\n",
      "   apple  orange  banana\n",
      "1     38      76      17\n",
      "2     13       6       2\n",
      "3     73      80      77\n",
      "4     10      65      72\n",
      "\n",
      "   apple  orange  banana\n",
      "1     45      68      37\n",
      "2     48      10      88\n",
      "3     65      84      71\n",
      "4     68      22      89\n",
      "1     38      76      17\n",
      "2     13       6       2\n",
      "3     73      80      77\n",
      "4     10      65      72\n",
      "\n",
      "   apple  orange  banana  apple  orange  banana\n",
      "1     45      68      37     38      76      17\n",
      "2     48      10      88     13       6       2\n",
      "3     65      84      71     73      80      77\n",
      "4     68      22      89     10      65      72\n"
     ]
    }
   ],
   "source": [
    "import numpy as np\n",
    "import pandas as pd\n",
    "\n",
    "\n",
    "# 指定のインデックスとカラムを持つ DataFrame を乱数によって作成する関数\n",
    "def make_random_df(index, columns, seed):\n",
    "    np.random.seed(seed)\n",
    "    df = pd.DataFrame()\n",
    "    \n",
    "    for column in columns:\n",
    "        df[column] = np.random.choice(range(1, 101), len(index))\n",
    "\n",
    "    df.index = index\n",
    "    \n",
    "    return df\n",
    "\n",
    "# インデックス、カラムが一致している DataFrame を作成する\n",
    "columns = ['apple', 'orange', 'banana']\n",
    "\n",
    "df_data1 = make_random_df(range(1, 5), columns, 0)\n",
    "df_data2 = make_random_df(range(1, 5), columns, 1)\n",
    "\n",
    "print(df_data1)\n",
    "print()\n",
    "print(df_data2)\n",
    "print()\n",
    "\n",
    "df1 = pd.concat([df_data1, df_data2], axis=0)\n",
    "\n",
    "print(df1)\n",
    "print()\n",
    "\n",
    "df2 = pd.concat([df_data1, df_data2], axis=1)\n",
    "\n",
    "print(df2)\n",
    "\n",
    "\n"
   ]
  },
  {
   "cell_type": "markdown",
   "id": "6e16c889",
   "metadata": {},
   "source": [
    "### 9.2.2 インデックス、カラムが一致していないDataFrame同士の連結"
   ]
  },
  {
   "cell_type": "code",
   "execution_count": 75,
   "id": "27352b7b",
   "metadata": {},
   "outputs": [
    {
     "name": "stdout",
     "output_type": "stream",
     "text": [
      "   apple  orange  banana\n",
      "1     45      68      37\n",
      "2     48      10      88\n",
      "3     65      84      71\n",
      "4     68      22      89\n",
      "\n",
      "   orange  kiwifruit  banana\n",
      "1      38         76      17\n",
      "3      13          6       2\n",
      "5      73         80      77\n",
      "7      10         65      72\n",
      "\n",
      "   apple  orange  banana  kiwifruit\n",
      "1   45.0      68      37        NaN\n",
      "2   48.0      10      88        NaN\n",
      "3   65.0      84      71        NaN\n",
      "4   68.0      22      89        NaN\n",
      "1    NaN      38      17       76.0\n",
      "3    NaN      13       2        6.0\n",
      "5    NaN      73      77       80.0\n",
      "7    NaN      10      72       65.0\n",
      "\n",
      "   apple  orange  banana  orange  kiwifruit  banana\n",
      "1   45.0    68.0    37.0    38.0       76.0    17.0\n",
      "2   48.0    10.0    88.0     NaN        NaN     NaN\n",
      "3   65.0    84.0    71.0    13.0        6.0     2.0\n",
      "4   68.0    22.0    89.0     NaN        NaN     NaN\n",
      "5    NaN     NaN     NaN    73.0       80.0    77.0\n",
      "7    NaN     NaN     NaN    10.0       65.0    72.0\n"
     ]
    }
   ],
   "source": [
    "import numpy as np\n",
    "import pandas as pd\n",
    "\n",
    "\n",
    "# 指定のインデックスとカラムを持つ DataFrame を乱数によって作成する関数\n",
    "def make_random_df(index, columns, seed):\n",
    "    np.random.seed(seed)\n",
    "    df = pd.DataFrame()\n",
    "    \n",
    "    for column in columns:\n",
    "        df[column] = np.random.choice(range(1, 101), len(index))\n",
    "\n",
    "    df.index = index\n",
    "    \n",
    "    return df\n",
    "\n",
    "# インデックス、カラムが一致している DataFrame を作成する\n",
    "columns1 = ['apple', 'orange', 'banana']\n",
    "columns2 = ['orange', 'kiwifruit', 'banana']\n",
    "\n",
    "df_data1 = make_random_df(range(1, 5), columns1, 0)\n",
    "df_data2 = make_random_df(range(1, 8, 2), columns2, 1)\n",
    "\n",
    "print(df_data1)\n",
    "print()\n",
    "print(df_data2)\n",
    "print()\n",
    "\n",
    "df1 = pd.concat([df_data1, df_data2], axis=0)\n",
    "\n",
    "print(df1)\n",
    "print()\n",
    "\n",
    "df2 = pd.concat([df_data1, df_data2], axis=1)\n",
    "\n",
    "print(df2)"
   ]
  },
  {
   "cell_type": "markdown",
   "id": "c4f9328a",
   "metadata": {},
   "source": [
    "### 9.2.3 連結する際のラベルの指定"
   ]
  },
  {
   "cell_type": "code",
   "execution_count": 76,
   "id": "e97ff22e",
   "metadata": {},
   "outputs": [
    {
     "name": "stdout",
     "output_type": "stream",
     "text": [
      "      X                   Y              \n",
      "  apple orange banana apple orange banana\n",
      "1    45     68     37    38     76     17\n",
      "2    48     10     88    13      6      2\n",
      "3    65     84     71    73     80     77\n",
      "4    68     22     89    10     65     72\n",
      "\n",
      "1    17\n",
      "2     2\n",
      "3    77\n",
      "4    72\n",
      "Name: (Y, banana), dtype: int64\n"
     ]
    }
   ],
   "source": [
    "import numpy as np\n",
    "import pandas as pd\n",
    "\n",
    "\n",
    "# 指定のインデックスとカラムを持つ DataFrame を乱数によって作成する関数\n",
    "def make_random_df(index, columns, seed):\n",
    "    np.random.seed(seed)\n",
    "    df = pd.DataFrame()\n",
    "    \n",
    "    for column in columns:\n",
    "        df[column] = np.random.choice(range(1, 101), len(index))\n",
    "\n",
    "    df.index = index\n",
    "    \n",
    "    return df\n",
    "\n",
    "# インデックス、カラムが一致している DataFrame を作成する\n",
    "columns = ['apple', 'orange', 'banana']\n",
    "\n",
    "df_data1 = make_random_df(range(1, 5), columns, 0)\n",
    "df_data2 = make_random_df(range(1, 5), columns, 1)\n",
    "\n",
    "df = pd.concat([df_data1, df_data2], axis=1, keys=['X', 'Y'])\n",
    "\n",
    "print(df)\n",
    "print()\n",
    "\n",
    "Y_banana = df['Y', 'banana']\n",
    "\n",
    "print(Y_banana)"
   ]
  },
  {
   "cell_type": "markdown",
   "id": "099633b1",
   "metadata": {},
   "source": [
    "### 9.3.2 内部連結の基本\n"
   ]
  },
  {
   "cell_type": "code",
   "execution_count": 77,
   "id": "6e637808",
   "metadata": {},
   "outputs": [
    {
     "name": "stdout",
     "output_type": "stream",
     "text": [
      "       fruits  year  amount\n",
      "0       apple  2001       1\n",
      "1      orange  2002       4\n",
      "2      banana  2001       5\n",
      "3  strawberry  2008       6\n",
      "4   kiwifruit  2006       3\n",
      "\n",
      "       fruits  year  price\n",
      "0       apple  2001    150\n",
      "1      orange  2002    120\n",
      "2      banana  2001    100\n",
      "3  strawberry  2008    250\n",
      "4       mango  2007   3000\n",
      "\n",
      "       fruits  year_x  amount  year_y  price\n",
      "0       apple    2001       1    2001    150\n",
      "1      orange    2002       4    2002    120\n",
      "2      banana    2001       5    2001    100\n",
      "3  strawberry    2008       6    2008    250\n"
     ]
    }
   ],
   "source": [
    "import numpy as np\n",
    "import pandas as pd\n",
    "\n",
    "data1 = {\n",
    "    'fruits': ['apple', 'orange', 'banana', 'strawberry', 'kiwifruit'],\n",
    "    'year': [2001, 2002, 2001, 2008, 2006],\n",
    "    'amount': [1, 4, 5, 6, 3],\n",
    "}\n",
    "\n",
    "df1 = pd.DataFrame(data1)\n",
    "\n",
    "data2 = {\n",
    "    'fruits': ['apple', 'orange', 'banana', 'strawberry', 'mango'],\n",
    "    'year': [2001, 2002, 2001, 2008, 2007],\n",
    "    'price': [150, 120, 100, 250, 3000],\n",
    "}\n",
    "\n",
    "df2 = pd.DataFrame(data2)\n",
    "\n",
    "print(df1)\n",
    "print()\n",
    "\n",
    "print(df2)\n",
    "print()\n",
    "\n",
    "df3 = pd.merge(df1, df2, on='fruits', how='inner')\n",
    "\n",
    "print(df3)"
   ]
  },
  {
   "cell_type": "markdown",
   "id": "bd1c9908",
   "metadata": {},
   "source": [
    "### 9.3.3 外部結合の基本"
   ]
  },
  {
   "cell_type": "code",
   "execution_count": 78,
   "id": "6a5b5a18",
   "metadata": {},
   "outputs": [
    {
     "name": "stdout",
     "output_type": "stream",
     "text": [
      "       fruits  year  amount\n",
      "0       apple  2001       1\n",
      "1      orange  2002       4\n",
      "2      banana  2001       5\n",
      "3  strawberry  2008       6\n",
      "4   kiwifruit  2006       3\n",
      "\n",
      "       fruits  year  price\n",
      "0       apple  2001    150\n",
      "1      orange  2002    120\n",
      "2      banana  2001    100\n",
      "3  strawberry  2008    250\n",
      "4       mango  2007   3000\n",
      "\n",
      "       fruits  year_x  amount  year_y   price\n",
      "0       apple  2001.0     1.0  2001.0   150.0\n",
      "1      orange  2002.0     4.0  2002.0   120.0\n",
      "2      banana  2001.0     5.0  2001.0   100.0\n",
      "3  strawberry  2008.0     6.0  2008.0   250.0\n",
      "4   kiwifruit  2006.0     3.0     NaN     NaN\n",
      "5       mango     NaN     NaN  2007.0  3000.0\n"
     ]
    }
   ],
   "source": [
    "import numpy as np\n",
    "import pandas as pd\n",
    "\n",
    "data1 = {\n",
    "    'fruits': ['apple', 'orange', 'banana', 'strawberry', 'kiwifruit'],\n",
    "    'year': [2001, 2002, 2001, 2008, 2006],\n",
    "    'amount': [1, 4, 5, 6, 3],\n",
    "}\n",
    "\n",
    "df1 = pd.DataFrame(data1)\n",
    "\n",
    "data2 = {\n",
    "    'fruits': ['apple', 'orange', 'banana', 'strawberry', 'mango'],\n",
    "    'year': [2001, 2002, 2001, 2008, 2007],\n",
    "    'price': [150, 120, 100, 250, 3000],\n",
    "}\n",
    "\n",
    "df2 = pd.DataFrame(data2)\n",
    "\n",
    "print(df1)\n",
    "print()\n",
    "\n",
    "print(df2)\n",
    "print()\n",
    "\n",
    "df3 = pd.merge(df1, df2, on='fruits', how='outer')\n",
    "\n",
    "print(df3)"
   ]
  },
  {
   "cell_type": "markdown",
   "id": "b6d69ee3",
   "metadata": {},
   "source": [
    "### 9.3.4 同名でない列をKeyにして結合する"
   ]
  },
  {
   "cell_type": "code",
   "execution_count": 79,
   "id": "7cf302be",
   "metadata": {},
   "outputs": [
    {
     "name": "stdout",
     "output_type": "stream",
     "text": [
      "   id_x  item_id  customer_id  id_y    name\n",
      "0  1000     2456          103   103    Kato\n",
      "1  1001     4352          101   101  Tanaka\n",
      "2  1002      342          101   101  Tanaka\n"
     ]
    }
   ],
   "source": [
    "import pandas as pd\n",
    "\n",
    "order_df = pd.DataFrame(\n",
    "    [\n",
    "        [1000, 2456, 103],\n",
    "        [1001, 4352, 101],\n",
    "        [1002, 342, 101]\n",
    "    ],\n",
    "    columns=['id', 'item_id', 'customer_id']\n",
    ")\n",
    "\n",
    "customer_df = pd.DataFrame(\n",
    "    [\n",
    "        [101, 'Tanaka'],\n",
    "        [102, 'Suzuki'],\n",
    "        [103, 'Kato']\n",
    "    ],\n",
    "    columns=['id', 'name']\n",
    ")\n",
    "\n",
    "order_df = pd.merge(order_df, customer_df ,left_on='customer_id', right_on='id', how='inner')\n",
    "\n",
    "print(order_df)\n",
    "\n"
   ]
  },
  {
   "cell_type": "markdown",
   "id": "9be038ec",
   "metadata": {},
   "source": [
    "### 9.3.5 インデックスをKeyにして結合する"
   ]
  },
  {
   "cell_type": "code",
   "execution_count": 80,
   "id": "8214fadd",
   "metadata": {},
   "outputs": [
    {
     "name": "stdout",
     "output_type": "stream",
     "text": [
      "     id  item_id  customer_id    name\n",
      "0  1000     2456          103    Kato\n",
      "1  1001     4352          101  Tanaka\n",
      "2  1002      342          101  Tanaka\n"
     ]
    }
   ],
   "source": [
    "import pandas as pd\n",
    "\n",
    "order_df = pd.DataFrame(\n",
    "    [\n",
    "        [1000, 2456, 103],\n",
    "        [1001, 4352, 101],\n",
    "        [1002, 342, 101]\n",
    "    ],\n",
    "    columns=['id', 'item_id', 'customer_id']\n",
    ")\n",
    "\n",
    "customer_df = pd.DataFrame(\n",
    "    [\n",
    "        ['Tanaka'],\n",
    "        ['Suzuki'],\n",
    "        ['Kato'],\n",
    "    ],\n",
    "    columns=['name']\n",
    ")\n",
    "\n",
    "customer_df.index = [101, 102, 103]\n",
    "\n",
    "order_df = pd.merge(order_df, customer_df ,left_on='customer_id', right_index=True, how='inner')\n",
    "\n",
    "print(order_df)\n",
    "\n"
   ]
  },
  {
   "cell_type": "markdown",
   "id": "12f122ee",
   "metadata": {},
   "source": [
    "## 9.4 DataFrameを用いたデータ分析"
   ]
  },
  {
   "cell_type": "code",
   "execution_count": 81,
   "id": "03de8c6d",
   "metadata": {},
   "outputs": [
    {
     "name": "stdout",
     "output_type": "stream",
     "text": [
      "   apple  orange  banana  strawberry  kiwifruit\n",
      "1      6       8       6           3         10\n",
      "2      1       7      10           4         10\n",
      "3      4       9       9           9          1\n",
      "4      4       9      10           2          5\n",
      "5      8       2       5           4          8\n",
      "\n",
      "    apple  orange  banana  strawberry  kiwifruit\n",
      "6      10       7       4           4          4\n",
      "7       4       8       1           4          3\n",
      "8       6       8       4           8          8\n",
      "9       3       9       6           1          3\n",
      "10      5       2       1           2          1\n"
     ]
    }
   ],
   "source": [
    "import numpy as np\n",
    "import pandas as pd\n",
    "\n",
    "np.random.seed(0)\n",
    "\n",
    "columns = ['apple', 'orange', 'banana', 'strawberry', 'kiwifruit']\n",
    "\n",
    "df = pd.DataFrame()\n",
    "\n",
    "for column in columns:\n",
    "    df[column] = np.random.choice(range(1, 11), 10)\n",
    "\n",
    "df.index = range(1, 11)\n",
    "\n",
    "print(df.head())\n",
    "print()\n",
    "\n",
    "print(df.tail())"
   ]
  },
  {
   "cell_type": "markdown",
   "id": "2fae3409",
   "metadata": {},
   "source": [
    "### 9.4.2 計算処理を適用する"
   ]
  },
  {
   "cell_type": "code",
   "execution_count": 82,
   "id": "c6392285",
   "metadata": {},
   "outputs": [
    {
     "name": "stdout",
     "output_type": "stream",
     "text": [
      "    apple  orange  banana  strawberry  kiwifruit\n",
      "1       6       8       6           3         10\n",
      "2       1       7      10           4         10\n",
      "3       4       9       9           9          1\n",
      "4       4       9      10           2          5\n",
      "5       8       2       5           4          8\n",
      "6      10       7       4           4          4\n",
      "7       4       8       1           4          3\n",
      "8       6       8       4           8          8\n",
      "9       3       9       6           1          3\n",
      "10      5       2       1           2          1\n",
      "\n",
      "    apple  orange  banana  strawberry  kiwifruit\n",
      "1      12      16      12           6         20\n",
      "2       2      14      20           8         20\n",
      "3       8      18      18          18          2\n",
      "4       8      18      20           4         10\n",
      "5      16       4      10           8         16\n",
      "6      20      14       8           8          8\n",
      "7       8      16       2           8          6\n",
      "8      12      16       8          16         16\n",
      "9       6      18      12           2          6\n",
      "10     10       4       2           4          2\n",
      "\n",
      "    apple  orange  banana  strawberry  kiwifruit\n",
      "1      36      64      36           9        100\n",
      "2       1      49     100          16        100\n",
      "3      16      81      81          81          1\n",
      "4      16      81     100           4         25\n",
      "5      64       4      25          16         64\n",
      "6     100      49      16          16         16\n",
      "7      16      64       1          16          9\n",
      "8      36      64      16          64         64\n",
      "9       9      81      36           1          9\n",
      "10     25       4       1           4          1\n",
      "\n",
      "       apple    orange    banana  strawberry  kiwifruit\n",
      "1   2.449490  2.828427  2.449490    1.732051   3.162278\n",
      "2   1.000000  2.645751  3.162278    2.000000   3.162278\n",
      "3   2.000000  3.000000  3.000000    3.000000   1.000000\n",
      "4   2.000000  3.000000  3.162278    1.414214   2.236068\n",
      "5   2.828427  1.414214  2.236068    2.000000   2.828427\n",
      "6   3.162278  2.645751  2.000000    2.000000   2.000000\n",
      "7   2.000000  2.828427  1.000000    2.000000   1.732051\n",
      "8   2.449490  2.828427  2.000000    2.828427   2.828427\n",
      "9   1.732051  3.000000  2.449490    1.000000   1.732051\n",
      "10  2.236068  1.414214  1.000000    1.414214   1.000000\n",
      "\n"
     ]
    }
   ],
   "source": [
    "import numpy as np\n",
    "import pandas as pd\n",
    "import math\n",
    "\n",
    "np.random.seed(0)\n",
    "\n",
    "columns = ['apple', 'orange', 'banana', 'strawberry', 'kiwifruit']\n",
    "\n",
    "df = pd.DataFrame()\n",
    "\n",
    "for column in columns:\n",
    "    df[column] = np.random.choice(range(1, 11), 10)\n",
    "    \n",
    "df.index = range(1, 11)\n",
    "\n",
    "print(df)\n",
    "print()\n",
    "\n",
    "double_df = df * 2\n",
    "\n",
    "print(double_df)\n",
    "print()\n",
    "\n",
    "square_df = df ** 2\n",
    "\n",
    "print(square_df)\n",
    "print()\n",
    "\n",
    "square_df = df ** 0.5\n",
    "\n",
    "print(square_df)\n",
    "print()"
   ]
  },
  {
   "cell_type": "markdown",
   "id": "0e1f0635",
   "metadata": {},
   "source": [
    "### 9.4.3 要約統計量を得る"
   ]
  },
  {
   "cell_type": "code",
   "execution_count": 83,
   "id": "a9b94433",
   "metadata": {},
   "outputs": [
    {
     "name": "stdout",
     "output_type": "stream",
     "text": [
      "              apple        orange        banana    strawberry     kiwifruit\n",
      "count  10000.000000  10000.000000  10000.000000  10000.000000  10000.000000\n",
      "mean      49.613500     50.401700     49.746500     50.302700     50.008100\n",
      "std       28.533768     28.464539     28.481126     28.423182     28.424272\n",
      "min        1.000000      1.000000      1.000000      1.000000      1.000000\n",
      "25%       25.000000     26.000000     25.000000     26.000000     25.000000\n",
      "50%       49.000000     51.000000     50.000000     50.500000     50.000000\n",
      "75%       74.000000     75.000000     74.000000     75.000000     74.000000\n",
      "max       99.000000     99.000000     99.000000     99.000000     99.000000\n"
     ]
    }
   ],
   "source": [
    "import numpy as np\n",
    "import pandas as pd\n",
    "\n",
    "np.random.seed(0)\n",
    "\n",
    "columns = ['apple', 'orange', 'banana', 'strawberry', 'kiwifruit']\n",
    "\n",
    "df = pd.DataFrame()\n",
    "\n",
    "for column in columns:\n",
    "    df[column] = np.random.choice(range(1, 100), 10000)\n",
    "    \n",
    "df.index = range(1, 10001)\n",
    "\n",
    "df_des = df.describe()\n",
    "\n",
    "print(df_des)"
   ]
  },
  {
   "cell_type": "markdown",
   "id": "5974e093",
   "metadata": {},
   "source": [
    "### 9.4.4 DataFrameの行間 / 列間の差を求める"
   ]
  },
  {
   "cell_type": "code",
   "execution_count": 84,
   "id": "1b50348e",
   "metadata": {},
   "outputs": [
    {
     "name": "stdout",
     "output_type": "stream",
     "text": [
      "    apple  orange  banana  strawberry  kiwifruit\n",
      "1       6       8       6           3         10\n",
      "2       1       7      10           4         10\n",
      "3       4       9       9           9          1\n",
      "4       4       9      10           2          5\n",
      "5       8       2       5           4          8\n",
      "6      10       7       4           4          4\n",
      "7       4       8       1           4          3\n",
      "8       6       8       4           8          8\n",
      "9       3       9       6           1          3\n",
      "10      5       2       1           2          1\n",
      "\n",
      "    apple  orange  banana  strawberry  kiwifruit\n",
      "1     2.0    -1.0    -3.0        -6.0        9.0\n",
      "2    -3.0    -2.0     0.0         2.0        5.0\n",
      "3    -4.0     7.0     4.0         5.0       -7.0\n",
      "4    -6.0     2.0     6.0        -2.0        1.0\n",
      "5     4.0    -6.0     4.0         0.0        5.0\n",
      "6     4.0    -1.0     0.0        -4.0       -4.0\n",
      "7     1.0    -1.0    -5.0         3.0        0.0\n",
      "8     1.0     6.0     3.0         6.0        7.0\n",
      "9     NaN     NaN     NaN         NaN        NaN\n",
      "10    NaN     NaN     NaN         NaN        NaN\n"
     ]
    }
   ],
   "source": [
    "# 時系列分析に使用する\n",
    "\n",
    "import numpy as np\n",
    "import pandas as pd\n",
    "\n",
    "np.random.seed(0)\n",
    "\n",
    "columns = ['apple', 'orange', 'banana', 'strawberry', 'kiwifruit']\n",
    "\n",
    "df = pd.DataFrame()\n",
    "\n",
    "for column in columns:\n",
    "    df[column] = np.random.choice(range(1, 11), 10)\n",
    "    \n",
    "df.index = range(1, 11)\n",
    "\n",
    "df_diff = df.diff(-2, axis=0)\n",
    "\n",
    "print(df)\n",
    "print()\n",
    "print(df_diff)"
   ]
  },
  {
   "cell_type": "markdown",
   "id": "228d5fd4",
   "metadata": {},
   "source": [
    "### 9.4.5 グループ化"
   ]
  },
  {
   "cell_type": "code",
   "execution_count": 85,
   "id": "ccec94fe",
   "metadata": {},
   "outputs": [
    {
     "name": "stdout",
     "output_type": "stream",
     "text": [
      "  Prefecture  Area  Population Region\n",
      "0      Tokyo  2190       13636  Kanto\n",
      "1   Kanagawa  2415        9145  Kanto\n",
      "2      Osaka  1904        8837  Kinki\n",
      "3      Kyoto  4610        2605  Kinki\n",
      "4      Aichi  5172        7505  Chubu\n",
      "\n",
      "          Area  Population\n",
      "Region                    \n",
      "Chubu   5172.0      7505.0\n",
      "Kanto   2302.5     11390.5\n",
      "Kinki   3257.0      5721.0\n",
      "\n"
     ]
    },
    {
     "name": "stderr",
     "output_type": "stream",
     "text": [
      "/var/folders/4t/3fc4ys414zj13301xv2kg7_00000gn/T/ipykernel_18824/1079302057.py:24: FutureWarning: The default value of numeric_only in DataFrameGroupBy.mean is deprecated. In a future version, numeric_only will default to False. Either specify numeric_only or select only columns which should be valid for the function.\n",
      "  print(grouped_region.mean())\n"
     ]
    }
   ],
   "source": [
    "import pandas as pd\n",
    "\n",
    "prefecture_df = pd.DataFrame(\n",
    "    [\n",
    "        ['Tokyo', 2190, 13636, 'Kanto'],\n",
    "        ['Kanagawa', 2415, 9145, 'Kanto'],\n",
    "        ['Osaka', 1904, 8837, 'Kinki'],\n",
    "        ['Kyoto', 4610, 2605, 'Kinki'],\n",
    "        ['Aichi', 5172, 7505, 'Chubu'],\n",
    "    ],\n",
    "    columns=[\n",
    "        'Prefecture',\n",
    "        'Area',\n",
    "        'Population',\n",
    "        'Region',\n",
    "    ]\n",
    ")\n",
    "\n",
    "print(prefecture_df)\n",
    "print()\n",
    "\n",
    "grouped_region = prefecture_df.groupby('Region')\n",
    "\n",
    "print(grouped_region.mean())\n",
    "print()"
   ]
  },
  {
   "cell_type": "markdown",
   "id": "a7f005fa",
   "metadata": {},
   "source": [
    "## 添削問題"
   ]
  },
  {
   "cell_type": "code",
   "execution_count": 86,
   "id": "4fde9fbb",
   "metadata": {},
   "outputs": [
    {
     "name": "stdout",
     "output_type": "stream",
     "text": [
      "      Name       Type  Price\n",
      "0    apple      Fruit    120\n",
      "1   orange      Fruit     60\n",
      "2   banana      Fruit    100\n",
      "3  pumpkin  Vegetable    150\n",
      "4   potato  Vegetable     80\n",
      "\n",
      "        Name       Type  Price\n",
      "0      onion  Vegetable     60\n",
      "1     carrot  Vegetable     50\n",
      "2      beans  Vegetable    100\n",
      "3      grape      Fruit    160\n",
      "4  kiwifruit      Fruit     80\n",
      "\n",
      "        Name       Type  Price\n",
      "0      apple      Fruit    120\n",
      "1     orange      Fruit     60\n",
      "2     banana      Fruit    100\n",
      "3    pumpkin  Vegetable    150\n",
      "4     potato  Vegetable     80\n",
      "0      onion  Vegetable     60\n",
      "1     carrot  Vegetable     50\n",
      "2      beans  Vegetable    100\n",
      "3      grape      Fruit    160\n",
      "4  kiwifruit      Fruit     80\n",
      "\n",
      "        Name   Type  Price\n",
      "1     orange  Fruit     60\n",
      "4  kiwifruit  Fruit     80\n",
      "2     banana  Fruit    100\n",
      "\n",
      "     Name       Type  Price\n",
      "1  carrot  Vegetable     50\n",
      "0   onion  Vegetable     60\n",
      "4  potato  Vegetable     80\n",
      "\n",
      "430\n"
     ]
    }
   ],
   "source": [
    "import pandas as pd\n",
    "\n",
    "df1 = pd.DataFrame(\n",
    "    [\n",
    "        ['apple', 'Fruit', 120],\n",
    "        ['orange', 'Fruit', 60],\n",
    "        ['banana', 'Fruit', 100],\n",
    "        ['pumpkin', 'Vegetable', 150],\n",
    "        ['potato', 'Vegetable', 80],\n",
    "    ],\n",
    "    columns=['Name', 'Type', 'Price',]\n",
    ")\n",
    "\n",
    "print(df1)\n",
    "print()\n",
    "\n",
    "df2 = pd.DataFrame(\n",
    "    [\n",
    "        ['onion', 'Vegetable', 60],\n",
    "        ['carrot', 'Vegetable', 50],\n",
    "        ['beans', 'Vegetable', 100],\n",
    "        ['grape', 'Fruit', 160],\n",
    "        ['kiwifruit', 'Fruit', 80],\n",
    "    ],\n",
    "    columns=['Name', 'Type', 'Price',]\n",
    ")\n",
    "\n",
    "print(df2)\n",
    "print()\n",
    "\n",
    "# df1 join df2\n",
    "joined_df = pd.concat([df1, df2], axis=0)\n",
    "\n",
    "print(joined_df)\n",
    "print()\n",
    "\n",
    "sorted_fruit_df = joined_df.loc[joined_df['Type'] == 'Fruit'].sort_values(by=['Price'])\n",
    "\n",
    "print(sorted_fruit_df[:3])\n",
    "print()\n",
    "\n",
    "sorted_vegetable_df = joined_df.loc[joined_df['Type'] == 'Vegetable'].sort_values(by=['Price'])\n",
    "\n",
    "print(sorted_vegetable_df[:3])\n",
    "print()\n",
    "\n",
    "print(sum(sorted_fruit_df[:3]['Price']) + sum(sorted_vegetable_df[:3]['Price']))"
   ]
  },
  {
   "cell_type": "markdown",
   "id": "6b0114f9",
   "metadata": {},
   "source": [
    "## 総合添削問題"
   ]
  },
  {
   "cell_type": "code",
   "execution_count": 87,
   "id": "a34842bb",
   "metadata": {
    "scrolled": true
   },
   "outputs": [
    {
     "name": "stdout",
     "output_type": "stream",
     "text": [
      "       国語  数学  社会  理科  英語\n",
      "taro   30  45  12  45  87\n",
      "mike   65  47  83  17  58\n",
      "kana   64  63  86  57  46\n",
      "jun    38  47  62  91  63\n",
      "sachi  65  36  85  94  36\n",
      "\n",
      "       国語  数学  社会  理科  英語  体育\n",
      "taro   30  45  12  45  87  56\n",
      "mike   65  47  83  17  58  43\n",
      "kana   64  63  86  57  46  73\n",
      "jun    38  47  62  91  63  82\n",
      "sachi  65  36  85  94  36  62\n",
      "\n",
      "       国語  数学  社会  理科  英語  体育\n",
      "sachi  65  36  85  94  36  62\n",
      "taro   30  45  12  45  87  56\n",
      "mike   65  47  83  17  58  43\n",
      "jun    38  47  62  91  63  82\n",
      "kana   64  63  86  57  46  73\n",
      "\n",
      "       国語  数学  社会  理科  英語  体育\n",
      "taro   35  50  17  50  92  61\n",
      "mike   70  52  88  22  63  48\n",
      "kana   69  68  91  62  51  78\n",
      "jun    43  52  67  96  68  87\n",
      "sachi  70  41  90  99  41  67\n",
      "\n",
      "        国語    数学    社会    理科    英語    体育\n",
      "mean  52.4  47.6  65.6  60.8  58.0  63.2\n",
      "max   65.0  63.0  86.0  94.0  87.0  82.0\n",
      "min   30.0  36.0  12.0  17.0  36.0  43.0\n",
      "\n"
     ]
    }
   ],
   "source": [
    "import pandas as pd\n",
    "\n",
    "index = ['taro', 'mike', 'kana', 'jun', 'sachi']\n",
    "\n",
    "columns = ['国語', '数学', '社会', '理科', '英語']\n",
    "\n",
    "data = [\n",
    "    [30, 45, 12, 45, 87],\n",
    "    [65, 47, 83, 17, 58],\n",
    "    [64, 63, 86, 57, 46],\n",
    "    [38, 47, 62, 91, 63],\n",
    "    [65, 36, 85, 94, 36],\n",
    "]\n",
    "\n",
    "df = pd.DataFrame(data, index=index, columns=columns)\n",
    "\n",
    "print(df)\n",
    "print()\n",
    "\n",
    "pe_column = pd.Series([56, 43, 73, 82, 62], index=index)\n",
    "\n",
    "df['体育'] = pe_column\n",
    "\n",
    "print(df)\n",
    "print()\n",
    "\n",
    "df1 = df.sort_values(by=['数学'])\n",
    "\n",
    "print(df1)\n",
    "print()\n",
    "\n",
    "df2 = df + 5\n",
    "\n",
    "print(df2)\n",
    "print()\n",
    "\n",
    "df_des = df.describe()\n",
    "\n",
    "print(df_des.loc[['mean', 'max', 'min']])\n",
    "print()"
   ]
  }
 ],
 "metadata": {
  "kernelspec": {
   "display_name": "Python 3 (ipykernel)",
   "language": "python",
   "name": "python3"
  },
  "language_info": {
   "codemirror_mode": {
    "name": "ipython",
    "version": 3
   },
   "file_extension": ".py",
   "mimetype": "text/x-python",
   "name": "python",
   "nbconvert_exporter": "python",
   "pygments_lexer": "ipython3",
   "version": "3.10.8"
  }
 },
 "nbformat": 4,
 "nbformat_minor": 5
}

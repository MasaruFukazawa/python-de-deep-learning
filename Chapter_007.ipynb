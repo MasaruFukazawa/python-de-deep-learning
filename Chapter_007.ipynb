{
 "cells": [
  {
   "cell_type": "markdown",
   "id": "fcfe4521",
   "metadata": {},
   "source": [
    "# Numpy"
   ]
  },
  {
   "cell_type": "code",
   "execution_count": 106,
   "id": "3aeeb54c",
   "metadata": {},
   "outputs": [
    {
     "name": "stdout",
     "output_type": "stream",
     "text": [
      "[24, 3, 4, 23, 10, 12]\n",
      "<class 'numpy.ndarray'>\n"
     ]
    }
   ],
   "source": [
    "import numpy as np\n",
    "\n",
    "storages = [24, 3, 4 , 23, 10, 12]\n",
    "\n",
    "print(storages)\n",
    "\n",
    "np_storage = np.array(storages)\n",
    "\n",
    "print(type(np_storage))"
   ]
  },
  {
   "cell_type": "code",
   "execution_count": 107,
   "id": "c24c7a73",
   "metadata": {},
   "outputs": [
    {
     "name": "stdout",
     "output_type": "stream",
     "text": [
      "[ 4 10  6  8 16]\n",
      "[0 0 0 0 0]\n",
      "[ 6 15  9 12 24]\n",
      "[0.5        0.2        0.33333333 0.25       0.125     ]\n"
     ]
    }
   ],
   "source": [
    "import numpy as np\n",
    "\n",
    "arr = np.array([2, 5, 3, 4, 8])\n",
    "\n",
    "print(arr + arr)\n",
    "\n",
    "print(arr - arr)\n",
    "\n",
    "print(arr * 3)\n",
    "\n",
    "print(1 / arr)"
   ]
  },
  {
   "cell_type": "markdown",
   "id": "e3798c45",
   "metadata": {},
   "source": [
    "## インデックス参照とスライス"
   ]
  },
  {
   "cell_type": "code",
   "execution_count": 108,
   "id": "c78523aa",
   "metadata": {},
   "outputs": [
    {
     "name": "stdout",
     "output_type": "stream",
     "text": [
      "[0 1 2 3 4 5 6 7 8 9]\n"
     ]
    }
   ],
   "source": [
    "import numpy as np\n",
    "\n",
    "arr = np.arange(10)\n",
    "print(arr)"
   ]
  },
  {
   "cell_type": "code",
   "execution_count": 109,
   "id": "e8342982",
   "metadata": {},
   "outputs": [
    {
     "name": "stdout",
     "output_type": "stream",
     "text": [
      "[1 1 1 3 4 5 6 7 8 9]\n"
     ]
    }
   ],
   "source": [
    "arr = np.arange(10)\n",
    "arr[0:3] = 1\n",
    "\n",
    "print(arr)"
   ]
  },
  {
   "cell_type": "code",
   "execution_count": 110,
   "id": "b164f94f",
   "metadata": {},
   "outputs": [
    {
     "name": "stdout",
     "output_type": "stream",
     "text": [
      "[0 1 2 3 4 5 6 7 8 9]\n",
      "[3 4 5]\n",
      "[ 0  1  2 24 24 24  6  7  8  9]\n"
     ]
    }
   ],
   "source": [
    "import numpy as np\n",
    "\n",
    "arr = np.arange(10)\n",
    "print(arr)\n",
    "\n",
    "# 3,4,5だけ表示する\n",
    "print(arr[3:6])\n",
    "\n",
    "# 3,4,5 を 24 にする\n",
    "arr[3:6] = 24\n",
    "print(arr)"
   ]
  },
  {
   "cell_type": "code",
   "execution_count": 111,
   "id": "bdf9d116",
   "metadata": {},
   "outputs": [
    {
     "name": "stdout",
     "output_type": "stream",
     "text": [
      "[1 2 3 4 5]\n",
      "[100   2   3   4   5]\n",
      "[100   2   3   4   5]\n",
      "[1 2 3 4 5]\n",
      "[1 2 3 4 5]\n",
      "[100   2   3   4   5]\n"
     ]
    }
   ],
   "source": [
    "import numpy as np\n",
    "\n",
    "# ndarrayをそのまま別の変数に代入した場合の挙動を見る\n",
    "arr1 = np.array([1, 2, 3, 4, 5])\n",
    "print(arr1)\n",
    "\n",
    "arr2 = arr1\n",
    "arr2[0] = 100\n",
    "\n",
    "print(arr1)\n",
    "print(arr2)\n",
    "\n",
    "# ndarray を copy() を使って別の変数に代入した場合の挙動を見る\n",
    "arr1 = np.array([1, 2, 3, 4, 5])\n",
    "print(arr1)\n",
    "\n",
    "arr2 = arr1.copy()\n",
    "arr2[0] = 100\n",
    "\n",
    "print(arr1)\n",
    "print(arr2)\n"
   ]
  },
  {
   "cell_type": "markdown",
   "id": "1cfd34cb",
   "metadata": {},
   "source": [
    "## view と copy"
   ]
  },
  {
   "cell_type": "code",
   "execution_count": 112,
   "id": "d67cb69e",
   "metadata": {},
   "outputs": [
    {
     "name": "stdout",
     "output_type": "stream",
     "text": [
      "[0, 1, 2, 3, 4, 5, 6, 7, 8, 9]\n",
      "[0, 1, 2, 3, 4, 5, 6, 7, 8, 9]\n",
      "[100, 1, 2, 3, 4, 5, 6, 7, 8, 9]\n",
      "[0 1 2 3 4 5 6 7 8 9]\n",
      "[100   1   2   3   4   5   6   7   8   9]\n",
      "[100   1   2   3   4   5   6   7   8   9]\n",
      "[0 1 2 3 4 5 6 7 8 9]\n",
      "[0 1 2 3 4 5 6 7 8 9]\n",
      "[100   1   2   3   4   5   6   7   8   9]\n"
     ]
    }
   ],
   "source": [
    "import numpy as np\n",
    "\n",
    "# Python の List型 の場合\n",
    "arr_list = [x for x in range(10)]\n",
    "print(arr_list)\n",
    "\n",
    "arr_list_copy = arr_list[:]\n",
    "arr_list_copy[0] = 100\n",
    "\n",
    "print(arr_list)\n",
    "print(arr_list_copy)\n",
    "\n",
    "\n",
    "# Numpy の ndarray型の場合\n",
    "arr_np = np.arange(10)\n",
    "print(arr_np)\n",
    "\n",
    "arr_np_view = arr_np[:]\n",
    "arr_np_view[0] = 100\n",
    "\n",
    "print(arr_np)\n",
    "print(arr_np_view)\n",
    "\n",
    "arr_np = np.arange(10)\n",
    "print(arr_np)\n",
    "\n",
    "arr_np_copy = arr_np[:].copy()\n",
    "arr_np_copy[0] = 100\n",
    "\n",
    "print(arr_np)\n",
    "print(arr_np_copy)"
   ]
  },
  {
   "cell_type": "markdown",
   "id": "db8bcc13",
   "metadata": {},
   "source": [
    "## ブールインデックス参照"
   ]
  },
  {
   "cell_type": "code",
   "execution_count": 113,
   "id": "cc3ffef6",
   "metadata": {},
   "outputs": [
    {
     "name": "stdout",
     "output_type": "stream",
     "text": [
      "[2 4 6 7]\n",
      "[2 4 7]\n"
     ]
    }
   ],
   "source": [
    "import numpy as np\n",
    "\n",
    "arr = np.array([2, 4, 6, 7])\n",
    "\n",
    "print(arr)\n",
    "print(arr[np.array([True, True, False, True])])"
   ]
  },
  {
   "cell_type": "code",
   "execution_count": 114,
   "id": "b46fd735",
   "metadata": {},
   "outputs": [
    {
     "name": "stdout",
     "output_type": "stream",
     "text": [
      "[4 7]\n"
     ]
    }
   ],
   "source": [
    "import numpy as np\n",
    "\n",
    "arr = np.array([2, 4, 6, 7])\n",
    "\n",
    "print(arr[arr % 3 == 1])"
   ]
  },
  {
   "cell_type": "code",
   "execution_count": 115,
   "id": "39006896",
   "metadata": {},
   "outputs": [
    {
     "name": "stdout",
     "output_type": "stream",
     "text": [
      "[ True False  True False  True False]\n",
      "[2 4 6]\n"
     ]
    }
   ],
   "source": [
    "import numpy as np\n",
    "\n",
    "arr = np.array([2, 3, 4, 5, 6, 7])\n",
    "\n",
    "print(arr % 2 == 0)\n",
    "\n",
    "print(arr[arr % 2 == 0])"
   ]
  },
  {
   "cell_type": "markdown",
   "id": "75635116",
   "metadata": {},
   "source": [
    "## ユニバーサル関数"
   ]
  },
  {
   "cell_type": "code",
   "execution_count": 116,
   "id": "858fb7ae",
   "metadata": {},
   "outputs": [
    {
     "name": "stdout",
     "output_type": "stream",
     "text": [
      "[ 4  9 16  4 20]\n",
      "[5.45981500e+01 8.10308393e+03 8.88611052e+06 5.45981500e+01\n",
      " 4.85165195e+08]\n",
      "[2.         3.         4.         2.         4.47213595]\n"
     ]
    }
   ],
   "source": [
    "import numpy as np\n",
    "\n",
    "\n",
    "arr = np.array([4, -9, 16, -4, 20])\n",
    "\n",
    "arr_abs = np.abs(arr)\n",
    "print(arr_abs)\n",
    "\n",
    "print( np.exp(arr_abs) )\n",
    "print( np.sqrt(arr_abs) )"
   ]
  },
  {
   "cell_type": "markdown",
   "id": "9bafe4bc",
   "metadata": {},
   "source": [
    "## 集合関数"
   ]
  },
  {
   "cell_type": "code",
   "execution_count": 117,
   "id": "7e60cb58",
   "metadata": {},
   "outputs": [
    {
     "name": "stdout",
     "output_type": "stream",
     "text": [
      "[2 5 7 9]\n",
      "[1 2 3 5 7 8 9]\n"
     ]
    }
   ],
   "source": [
    "import numpy as np\n",
    "\n",
    "arr1 = [2, 5, 7, 9, 5, 2]\n",
    "arr2 = [2, 5, 8, 3, 1]\n",
    "\n",
    "new_arr1 = np.unique(arr1)\n",
    "print(new_arr1)\n",
    "\n",
    "print( np.union1d(arr1, arr2) )"
   ]
  },
  {
   "cell_type": "markdown",
   "id": "0beea85c",
   "metadata": {},
   "source": [
    "## 乱数\n"
   ]
  },
  {
   "cell_type": "code",
   "execution_count": 118,
   "id": "b8edca78",
   "metadata": {},
   "outputs": [
    {
     "name": "stdout",
     "output_type": "stream",
     "text": [
      "[[ 6  4]\n",
      " [ 8  4]\n",
      " [ 7 10]\n",
      " [ 4  3]\n",
      " [ 0  1]]\n",
      "[0.55448096 0.2391703  0.00124204]\n"
     ]
    }
   ],
   "source": [
    "import numpy as np\n",
    "from numpy.random import rand, randint\n",
    "\n",
    "# 0 以上 10 以内の整数の 5x2行列 を生成\n",
    "arr1 = randint(0, 11, (5, 2))\n",
    "print(arr1)\n",
    "\n",
    "# 0 ~ 1 までの一様乱数を3つ生成\n",
    "arr2 = rand(3)\n",
    "print(arr2)\n",
    "\n"
   ]
  },
  {
   "cell_type": "markdown",
   "id": "d6e9b56c",
   "metadata": {},
   "source": [
    "# 7.3 NumPyのよる2次元配列"
   ]
  },
  {
   "cell_type": "code",
   "execution_count": 119,
   "id": "80efc0c0",
   "metadata": {},
   "outputs": [
    {
     "name": "stdout",
     "output_type": "stream",
     "text": [
      "[[1 2 3 4]\n",
      " [5 6 7 8]]\n",
      "(2, 4)\n",
      "[[1 2]\n",
      " [3 4]\n",
      " [5 6]\n",
      " [7 8]]\n"
     ]
    }
   ],
   "source": [
    "import numpy as np\n",
    "\n",
    "arr = np.array([\n",
    "    [1, 2, 3, 4],\n",
    "    [5, 6, 7, 8],\n",
    "])\n",
    "\n",
    "print(arr)\n",
    "\n",
    "print(arr.shape)\n",
    "\n",
    "print(arr.reshape(4, 2))"
   ]
  },
  {
   "cell_type": "markdown",
   "id": "f95c6874",
   "metadata": {},
   "source": [
    "### 7.3.2 インデックス参照とスライス"
   ]
  },
  {
   "cell_type": "code",
   "execution_count": 120,
   "id": "c09efc68",
   "metadata": {},
   "outputs": [
    {
     "name": "stdout",
     "output_type": "stream",
     "text": [
      "[4 5 6]\n",
      "6\n",
      "6\n",
      "[5 6]\n",
      "[5 6]\n"
     ]
    }
   ],
   "source": [
    "import numpy as np\n",
    "\n",
    "arr = np.array([\n",
    "    [1, 2, 3],\n",
    "    [4, 5, 6],\n",
    "])\n",
    "\n",
    "print(arr[1])\n",
    "\n",
    "print(arr[1, 2])\n",
    "print(arr[1][2])\n",
    "\n",
    "print(arr[1, 1:])\n",
    "print(arr[1][1:])"
   ]
  },
  {
   "cell_type": "code",
   "execution_count": 121,
   "id": "21521328",
   "metadata": {},
   "outputs": [
    {
     "name": "stdout",
     "output_type": "stream",
     "text": [
      "[[1 2 3]\n",
      " [4 5 6]\n",
      " [7 8 9]]\n",
      "3\n",
      "[[4 5]\n",
      " [7 8]]\n"
     ]
    }
   ],
   "source": [
    "import numpy as np\n",
    "\n",
    "arr = np.array([\n",
    "    [1, 2, 3],\n",
    "    [4, 5, 6],\n",
    "    [7, 8, 9],\n",
    "])\n",
    "\n",
    "print(arr)\n",
    "\n",
    "print(arr[0, 2])\n",
    "\n",
    "print(arr[1:, :2])"
   ]
  },
  {
   "cell_type": "markdown",
   "id": "07fc0013",
   "metadata": {},
   "source": [
    "### 7.3.3 axis"
   ]
  },
  {
   "cell_type": "code",
   "execution_count": 122,
   "id": "b3883aba",
   "metadata": {},
   "outputs": [
    {
     "name": "stdout",
     "output_type": "stream",
     "text": [
      "21\n",
      "[5 7 9]\n",
      "[ 6 15]\n"
     ]
    }
   ],
   "source": [
    "import numpy as np\n",
    "\n",
    "arr = np.array([\n",
    "    [1, 2, 3],\n",
    "    [4, 5, 6],\n",
    "])\n",
    "\n",
    "print(arr.sum())\n",
    "print(arr.sum(axis=0))\n",
    "print(arr.sum(axis=1))"
   ]
  },
  {
   "cell_type": "code",
   "execution_count": 123,
   "id": "09549e23",
   "metadata": {},
   "outputs": [
    {
     "name": "stdout",
     "output_type": "stream",
     "text": [
      "[ 6 15 24]\n"
     ]
    }
   ],
   "source": [
    "import numpy as np\n",
    "\n",
    "arr = np.array([\n",
    "    [1, 2, 3],\n",
    "    [4, 5, 6],\n",
    "    [7, 8, 9],\n",
    "])\n",
    "\n",
    "print(arr.sum(axis=1))"
   ]
  },
  {
   "cell_type": "markdown",
   "id": "448bb548",
   "metadata": {},
   "source": [
    "### 7.3.4 ファンシーインデックス参照"
   ]
  },
  {
   "cell_type": "code",
   "execution_count": 124,
   "id": "92f0c091",
   "metadata": {},
   "outputs": [
    {
     "name": "stdout",
     "output_type": "stream",
     "text": [
      "[[7 8]\n",
      " [5 6]\n",
      " [1 2]]\n"
     ]
    }
   ],
   "source": [
    "import numpy as np\n",
    "\n",
    "arr = np.array([\n",
    "    [1, 2],\n",
    "    [3, 4],\n",
    "    [5, 6],\n",
    "    [7, 8],\n",
    "])\n",
    "\n",
    "print(arr[[3, 2, 0]])"
   ]
  },
  {
   "cell_type": "code",
   "execution_count": 125,
   "id": "7f489c44",
   "metadata": {},
   "outputs": [
    {
     "name": "stdout",
     "output_type": "stream",
     "text": [
      "[[ 0  1  2  3  4]\n",
      " [ 5  6  7  8  9]\n",
      " [10 11 12 13 14]\n",
      " [15 16 17 18 19]\n",
      " [20 21 22 23 24]]\n",
      "[[ 5  6  7  8  9]\n",
      " [15 16 17 18 19]\n",
      " [ 0  1  2  3  4]]\n"
     ]
    }
   ],
   "source": [
    "import numpy as np\n",
    "\n",
    "arr = np.arange(25).reshape(5, 5)\n",
    "print(arr)\n",
    "\n",
    "print(arr[[1, 3, 0]])"
   ]
  },
  {
   "cell_type": "markdown",
   "id": "54957996",
   "metadata": {},
   "source": [
    "### 7.3.5 転置行列"
   ]
  },
  {
   "cell_type": "code",
   "execution_count": 126,
   "id": "3d8e15fb",
   "metadata": {},
   "outputs": [
    {
     "name": "stdout",
     "output_type": "stream",
     "text": [
      "[[0 1 2 3 4]\n",
      " [5 6 7 8 9]]\n",
      "[[0 5]\n",
      " [1 6]\n",
      " [2 7]\n",
      " [3 8]\n",
      " [4 9]]\n"
     ]
    }
   ],
   "source": [
    "import numpy as np\n",
    "\n",
    "arr = np.arange(10).reshape(2, 5)\n",
    "print(arr)\n",
    "\n",
    "print(arr.T)"
   ]
  },
  {
   "cell_type": "markdown",
   "id": "610f2fbc",
   "metadata": {},
   "source": [
    "### 7.3.6 ソート"
   ]
  },
  {
   "cell_type": "code",
   "execution_count": 127,
   "id": "4f654122",
   "metadata": {},
   "outputs": [
    {
     "name": "stdout",
     "output_type": "stream",
     "text": [
      "[ 5 15 30]\n"
     ]
    }
   ],
   "source": [
    "import numpy as np\n",
    "\n",
    "arr = np.array([15, 30, 5])\n",
    "\n",
    "arr.argsort()\n",
    "\n",
    "print(arr[arr.argsort()])"
   ]
  },
  {
   "cell_type": "code",
   "execution_count": 128,
   "id": "7c12c704",
   "metadata": {},
   "outputs": [
    {
     "name": "stdout",
     "output_type": "stream",
     "text": [
      "[[2 1 0]\n",
      " [2 0 1]]\n",
      "[[2 4 8]\n",
      " [1 3 5]]\n",
      "[[2 4 8]\n",
      " [1 3 5]]\n"
     ]
    }
   ],
   "source": [
    "import numpy as np\n",
    "\n",
    "arr = np.array([\n",
    "    [8, 4, 2],\n",
    "    [3, 5, 1],\n",
    "])\n",
    "\n",
    "print(arr.argsort())\n",
    "\n",
    "print(np.sort(arr))\n",
    "\n",
    "arr.sort()\n",
    "print(arr)"
   ]
  },
  {
   "cell_type": "markdown",
   "id": "02d29144",
   "metadata": {},
   "source": [
    "### 7.3.7 行列計算"
   ]
  },
  {
   "cell_type": "code",
   "execution_count": 129,
   "id": "d9e3b54d",
   "metadata": {},
   "outputs": [
    {
     "name": "stdout",
     "output_type": "stream",
     "text": [
      "[[0 1 2]\n",
      " [3 4 5]\n",
      " [6 7 8]]\n",
      "[[ 15  18  21]\n",
      " [ 42  54  66]\n",
      " [ 69  90 111]]\n",
      "187.63794925334267\n"
     ]
    }
   ],
   "source": [
    "import numpy as np\n",
    "\n",
    "arr = np.arange(9).reshape(3, 3)\n",
    "print(arr)\n",
    "\n",
    "print(arr.dot(arr, arr))\n",
    "\n",
    "vec = arr.reshape(9)\n",
    "\n",
    "print(np.linalg.norm(vec))"
   ]
  },
  {
   "cell_type": "markdown",
   "id": "20a9b08d",
   "metadata": {},
   "source": [
    "### 7.3.8 統計関数"
   ]
  },
  {
   "cell_type": "code",
   "execution_count": 130,
   "id": "a3b89f0d",
   "metadata": {},
   "outputs": [
    {
     "name": "stdout",
     "output_type": "stream",
     "text": [
      "[[ 0  1  2  3  4]\n",
      " [ 5  6  7  8  9]\n",
      " [10 11 12 13 14]]\n",
      "[5. 6. 7. 8. 9.]\n",
      "[10 35 60]\n",
      "0\n",
      "[2 2 2 2 2]\n"
     ]
    }
   ],
   "source": [
    "import numpy as np\n",
    "\n",
    "arr = np.arange(15).reshape(3, 5)\n",
    "\n",
    "print(arr)\n",
    "\n",
    "# 列ごとに平均\n",
    "print(np.average(arr, axis=0))\n",
    "\n",
    "# 行の合計\n",
    "print(np.sum(arr, axis=1))\n",
    "\n",
    "# 最小値\n",
    "print(np.min(arr))\n",
    "\n",
    "# 列ごとの最大値をインデックス表示\n",
    "print(np.argmax(arr, axis=0))"
   ]
  },
  {
   "cell_type": "markdown",
   "id": "a34348c0",
   "metadata": {},
   "source": [
    "### 7.3.9 ブロードキャスト"
   ]
  },
  {
   "cell_type": "code",
   "execution_count": 133,
   "id": "35083986",
   "metadata": {},
   "outputs": [
    {
     "name": "stdout",
     "output_type": "stream",
     "text": [
      "[[0 1 2]\n",
      " [3 4 5]]\n",
      "[[1 2 3]\n",
      " [4 5 6]]\n"
     ]
    }
   ],
   "source": [
    "import numpy as np\n",
    "\n",
    "x = np.arange(6).reshape(2, 3)\n",
    "\n",
    "print(x)\n",
    "print(x + 1)"
   ]
  },
  {
   "cell_type": "code",
   "execution_count": 135,
   "id": "c9845ecb",
   "metadata": {},
   "outputs": [
    {
     "name": "stdout",
     "output_type": "stream",
     "text": [
      "[[ 0  1  2  3  4]\n",
      " [ 5  6  7  8  9]\n",
      " [10 11 12 13 14]]\n",
      "[[0 1 2 3 4]]\n",
      "[[ 0  0  0  0  0]\n",
      " [ 5  5  5  5  5]\n",
      " [10 10 10 10 10]]\n"
     ]
    }
   ],
   "source": [
    "import numpy as np\n",
    "\n",
    "x = np.arange(15).reshape(3, 5)\n",
    "print(x)\n",
    "\n",
    "y = np.array([np.arange(5)])\n",
    "print(y)\n",
    "\n",
    "print(x - y )\n"
   ]
  },
  {
   "cell_type": "markdown",
   "id": "68a20620",
   "metadata": {},
   "source": [
    "## 添削問題"
   ]
  },
  {
   "cell_type": "code",
   "execution_count": 150,
   "id": "4d96b1d3",
   "metadata": {},
   "outputs": [
    {
     "name": "stdout",
     "output_type": "stream",
     "text": [
      "[[ 8 24  3]\n",
      " [ 7 23 15]\n",
      " [16 10 30]\n",
      " [20  2 21]\n",
      " [ 2  2 14]]\n",
      "[[ 8  7 16 20  2]\n",
      " [24 23 10  2  2]\n",
      " [ 3 15 30 21 14]]\n",
      "[[ 7 16 20]\n",
      " [23 10  2]\n",
      " [15 30 21]]\n",
      "[[ 7 16 20]\n",
      " [ 2 10 23]\n",
      " [15 21 30]]\n",
      "[ 8.         15.66666667 24.33333333]\n"
     ]
    }
   ],
   "source": [
    "import numpy as np\n",
    "\n",
    "np.random.seed(100)\n",
    "\n",
    "arr = np.random.randint(0, 31, (5, 3))\n",
    "print( arr )\n",
    "\n",
    "# 行列の転置\n",
    "arr = arr.T\n",
    "print( arr )\n",
    "\n",
    "arr1 = arr[:, 1:4]\n",
    "print( arr1 )\n",
    "\n",
    "arr1.sort(axis=1)\n",
    "print( arr1 )\n",
    "\n",
    "print( np.mean(arr1, axis=0) )"
   ]
  },
  {
   "cell_type": "code",
   "execution_count": null,
   "id": "08e168fb",
   "metadata": {},
   "outputs": [],
   "source": []
  }
 ],
 "metadata": {
  "kernelspec": {
   "display_name": "Python 3 (ipykernel)",
   "language": "python",
   "name": "python3"
  },
  "language_info": {
   "codemirror_mode": {
    "name": "ipython",
    "version": 3
   },
   "file_extension": ".py",
   "mimetype": "text/x-python",
   "name": "python",
   "nbconvert_exporter": "python",
   "pygments_lexer": "ipython3",
   "version": "3.9.0"
  }
 },
 "nbformat": 4,
 "nbformat_minor": 5
}
